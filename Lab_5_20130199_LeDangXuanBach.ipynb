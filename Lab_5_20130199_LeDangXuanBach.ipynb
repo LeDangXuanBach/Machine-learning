{
  "nbformat": 4,
  "nbformat_minor": 0,
  "metadata": {
    "colab": {
      "provenance": [],
      "include_colab_link": true
    },
    "kernelspec": {
      "name": "python3",
      "display_name": "Python 3"
    },
    "language_info": {
      "name": "python"
    }
  },
  "cells": [
    {
      "cell_type": "markdown",
      "metadata": {
        "id": "view-in-github",
        "colab_type": "text"
      },
      "source": [
        "<a href=\"https://colab.research.google.com/github/LeDangXuanBach/Machine-learning/blob/main/Lab_5_20130199_LeDangXuanBach.ipynb\" target=\"_parent\"><img src=\"https://colab.research.google.com/assets/colab-badge.svg\" alt=\"Open In Colab\"/></a>"
      ]
    },
    {
      "cell_type": "markdown",
      "source": [
        "# This lab is to deal with **SVM** to classification tasks and compare its performance with other competitive algorithms. In general, **SVM** is one of the most popular and widely used supervised machine learning algorithms.\n",
        "\n",
        "*   **Deadline: 23:59, 17/03/2023**\n",
        "\n"
      ],
      "metadata": {
        "id": "LMzehe0sy5wr"
      }
    },
    {
      "cell_type": "markdown",
      "source": [
        "# Import libraries"
      ],
      "metadata": {
        "id": "H4nJmxp9zGX4"
      }
    },
    {
      "cell_type": "code",
      "source": [
        "# Kết nối drive\n",
        "#code\n",
        "from google.colab import drive\n",
        "drive.mount('/content/gdrive')\n",
        "%cd '/content/gdrive/MyDrive/ML/lab5'"
      ],
      "metadata": {
        "colab": {
          "base_uri": "https://localhost:8080/"
        },
        "id": "FJglyV6Oa5wr",
        "outputId": "619604d5-51de-4676-d3f5-37dbe529c52c"
      },
      "execution_count": 3,
      "outputs": [
        {
          "output_type": "stream",
          "name": "stdout",
          "text": [
            "Mounted at /content/gdrive\n",
            "/content/gdrive/MyDrive/ML/lab5\n"
          ]
        }
      ]
    },
    {
      "cell_type": "code",
      "execution_count": 4,
      "metadata": {
        "id": "DoVWQ8AEyc-C"
      },
      "outputs": [],
      "source": [
        "# code\n",
        "import pandas as pd\n",
        "from sklearn import datasets\n",
        "from sklearn.model_selection import train_test_split\n",
        "\n",
        "from sklearn.tree import DecisionTreeClassifier\n",
        "from sklearn.linear_model import LogisticRegression \n",
        "from sklearn.neighbors import KNeighborsClassifier\n",
        "\n",
        "\n",
        "from sklearn.metrics import confusion_matrix, ConfusionMatrixDisplay, accuracy_score, precision_score, recall_score, f1_score\n",
        "\n",
        "from prettytable import PrettyTable\n",
        "\n",
        "from sklearn import svm \n",
        "\n"
      ]
    },
    {
      "cell_type": "markdown",
      "source": [
        "#Task 1. \n",
        "For breast cancer dataset (https://tinyurl.com/3vme8hr3) which could be loaded from datasets in sklearn as follows:\n",
        "\n",
        "```\n",
        "#Import scikit-learn dataset library\n",
        "from sklearn import datasets\n",
        "\n",
        "#Load dataset\n",
        "cancer = datasets.load_breast_cancer()\n",
        "```\n",
        "\n",
        "*   1.1.\tApply SVM algorithm to above dataset using linear kernel.\n",
        "*   1.2.\tCompare the obtained results with other competitive algorithms (Logistic Regression, Decision Tree, kNN) based on metrics: accuracy, precision, recall, f1 measures.\n",
        "\n"
      ],
      "metadata": {
        "id": "kNv07ARGzOUm"
      }
    },
    {
      "cell_type": "code",
      "source": [
        "# code\n",
        "cancer = datasets.load_breast_cancer()\n",
        "X = cancer.data\n",
        "y = cancer.target\n",
        "\n",
        "X_train, X_test, y_train, y_test = train_test_split(X, y, test_size = 0.3, random_state=51)\n",
        "\n",
        "# 1.1\n",
        "# Linear Kernel \n",
        "clf = svm.SVC(kernel='linear') \n",
        "clf.fit(X_train, y_train) \n",
        "y_pred_clf = clf.predict(X_test)\n",
        "\n",
        "\n",
        "\n",
        "# 1.2\n",
        "# Logistic Regression\n",
        "lr1 = LogisticRegression();\n",
        "lr1.fit(X_train, y_train) \n",
        "y_pred_lr1 = lr1.predict(X_test)\n",
        "# KNeighbors Classifier\n",
        "knn1 = KNeighborsClassifier(n_neighbors=5)\n",
        "knn1.fit(X_train, y_train)\n",
        "y_pred_knn1 = knn1.predict(X_test)\n",
        "# Decision Tree Classifier\n",
        "dt1 = DecisionTreeClassifier()\n",
        "dt1.fit(X_train, y_train)\n",
        "y_pred_dt1 = dt1.predict(X_test)\n",
        "\n",
        "t1 = PrettyTable([\"Algorithm\", \"Accuracy\", \"Precision\", \"Recall\", \"F1 measures\"])\n",
        "\n",
        "t1.add_row([\"SVM linear kernel\",round(accuracy_score(y_test, y_pred_clf), 4) ,round(precision_score(y_test, y_pred_clf), 4) ,round(recall_score(y_test, y_pred_clf),4) ,round(f1_score(y_test, y_pred_clf), 4)])\n",
        "t1.add_row([\"Logistic Regression\",round(accuracy_score(y_test, y_pred_lr1), 4) ,round(precision_score(y_test, y_pred_lr1), 4) ,round(recall_score(y_test, y_pred_lr1),4) ,round(f1_score(y_test, y_pred_lr1), 4)])\n",
        "t1.add_row([\"KNeighbors Classifier\",round(accuracy_score(y_test, y_pred_knn1), 4) ,round(precision_score(y_test, y_pred_knn1), 4) ,round(recall_score(y_test, y_pred_knn1),4) ,round(f1_score(y_test, y_pred_knn1), 4)])\n",
        "t1.add_row([\"Decision Tree Classifier\",round(accuracy_score(y_test, y_pred_dt1), 4) ,round(precision_score(y_test, y_pred_dt1), 4) ,round(recall_score(y_test, y_pred_dt1),4) ,round(f1_score(y_test, y_pred_dt1), 4)])\n",
        "\n",
        "\n",
        "print(t1)"
      ],
      "metadata": {
        "id": "sOsg77IBzEyo",
        "colab": {
          "base_uri": "https://localhost:8080/"
        },
        "outputId": "7badeff8-a89b-47c1-ad43-b189ef0084d6"
      },
      "execution_count": 5,
      "outputs": [
        {
          "output_type": "stream",
          "name": "stdout",
          "text": [
            "+--------------------------+----------+-----------+--------+-------------+\n",
            "|        Algorithm         | Accuracy | Precision | Recall | F1 measures |\n",
            "+--------------------------+----------+-----------+--------+-------------+\n",
            "|    SVM linear kernel     |  0.9474  |   0.955   | 0.9636 |    0.9593   |\n",
            "|   Logistic Regression    |  0.9298  |   0.9224  | 0.9727 |    0.9469   |\n",
            "|  KNeighbors Classifier   |  0.9181  |   0.9286  | 0.9455 |    0.9369   |\n",
            "| Decision Tree Classifier |  0.9357  |   0.9381  | 0.9636 |    0.9507   |\n",
            "+--------------------------+----------+-----------+--------+-------------+\n"
          ]
        },
        {
          "output_type": "stream",
          "name": "stderr",
          "text": [
            "/usr/local/lib/python3.9/dist-packages/sklearn/linear_model/_logistic.py:458: ConvergenceWarning: lbfgs failed to converge (status=1):\n",
            "STOP: TOTAL NO. of ITERATIONS REACHED LIMIT.\n",
            "\n",
            "Increase the number of iterations (max_iter) or scale the data as shown in:\n",
            "    https://scikit-learn.org/stable/modules/preprocessing.html\n",
            "Please also refer to the documentation for alternative solver options:\n",
            "    https://scikit-learn.org/stable/modules/linear_model.html#logistic-regression\n",
            "  n_iter_i = _check_optimize_result(\n"
          ]
        }
      ]
    },
    {
      "cell_type": "markdown",
      "source": [
        "#Task 2. \n",
        "\n",
        "*   1.1.\tPerform SVM algorithm to **Iris dataset** using **linear kernel**.\n",
        "*   1.2.\tCompare the obtained results in 1.1 with SVM using other kernels (**Polynomial Kernel, Gaussian Kernel, Sigmoid Kernel, Radial Basis Function Kernel**). Some metrics could be used: accuracy, precision, recall, f1 measures\n",
        "\n",
        "\n",
        "\n"
      ],
      "metadata": {
        "id": "S43IoUT-0OQq"
      }
    },
    {
      "cell_type": "code",
      "source": [
        "# code\n",
        "data2 = datasets.load_iris()\n",
        "\n",
        "X_train2, X_test2, y_train2, y_test2 = train_test_split(data2.data, data2.target, test_size= 0.3, random_state = 52)\n",
        "\n",
        "# 2.1\n",
        "#Linear Kernel\n",
        "svm_l = svm.SVC(kernel='linear')\n",
        "svm_l.fit(X_train2, y_train2)\n",
        "y_pred_svm_l = svm_l.predict(X_test2)\n",
        "\n",
        "\n",
        "# 2.2\n",
        "#Polynomial Kernel\n",
        "svm_p = svm.SVC(kernel=\"poly\")\n",
        "svm_p.fit(X_train2, y_train2)\n",
        "y_pred_svm_p = svm_p.predict(X_test2)\n",
        "#Sigmoid Kernel \n",
        "svm_s = svm.SVC(kernel=\"sigmoid\")\n",
        "svm_s.fit(X_train2, y_train2)\n",
        "y_pred_svm_s = svm_s.predict(X_test2)\n",
        "#Radial Basis Function Kernel\n",
        "svm_r = svm.SVC(kernel=\"rbf\")\n",
        "svm_r.fit(X_train2, y_train2)\n",
        "y_pred_svm_r = svm_r.predict(X_test2)\n",
        "\n",
        "\n",
        "\n",
        "t2 = PrettyTable([\"Algorithm\", \"Accuracy\", \"Precision\", \"Recall\", \"F1 measures\"])\n",
        "t2.add_row([\"SVM Linear Kernel\",round(accuracy_score(y_test2, y_pred_svm_l), 4) ,round(precision_score(y_test2, y_pred_svm_l, average = 'macro'), 4) ,round(recall_score(y_test2, y_pred_svm_l, average = 'macro'), 4) ,round(f1_score(y_test2, y_pred_svm_l, average = 'macro'), 4) ])\n",
        "t2.add_row([\"SVM Polynomial Kernel\",round(accuracy_score(y_test2, y_pred_svm_p), 4) ,round(precision_score(y_test2, y_pred_svm_p, average = 'macro'), 4) ,round(recall_score(y_test2, y_pred_svm_p, average = 'macro'), 4) ,round(f1_score(y_test2, y_pred_svm_p, average = 'macro'), 4) ])\n",
        "t2.add_row([\"SVM Sigmoid Kernel\",round(accuracy_score(y_test2, y_pred_svm_s), 4) ,round(precision_score(y_test2, y_pred_svm_s, average = 'macro'), 4) ,round(recall_score(y_test2, y_pred_svm_s, average = 'macro'), 4) ,round(f1_score(y_test2, y_pred_svm_s, average = 'macro'), 4) ])\n",
        "t2.add_row([\"SVM Radial Basis Function Kernel\",round(accuracy_score(y_test2, y_pred_svm_r), 4) ,round(precision_score(y_test2, y_pred_svm_r, average = 'macro'), 4) ,round(recall_score(y_test2, y_pred_svm_r, average = 'macro'), 4) ,round(f1_score(y_test2, y_pred_svm_r, average = 'macro'), 4) ])\n",
        "\n",
        "print(t2)\n"
      ],
      "metadata": {
        "id": "_xhPpF5b033h",
        "colab": {
          "base_uri": "https://localhost:8080/"
        },
        "outputId": "3c8f841f-5704-4241-fd96-8bd2b39a63fb"
      },
      "execution_count": 6,
      "outputs": [
        {
          "output_type": "stream",
          "name": "stdout",
          "text": [
            "+----------------------------------+----------+-----------+--------+-------------+\n",
            "|            Algorithm             | Accuracy | Precision | Recall | F1 measures |\n",
            "+----------------------------------+----------+-----------+--------+-------------+\n",
            "|        SVM Linear Kernel         |  0.9333  |    0.95   | 0.9412 |    0.9407   |\n",
            "|      SVM Polynomial Kernel       |  0.9333  |    0.95   | 0.9412 |    0.9407   |\n",
            "|        SVM Sigmoid Kernel        |  0.2444  |   0.0815  | 0.3333 |    0.131    |\n",
            "| SVM Radial Basis Function Kernel |  0.9333  |    0.95   | 0.9412 |    0.9407   |\n",
            "+----------------------------------+----------+-----------+--------+-------------+\n"
          ]
        },
        {
          "output_type": "stream",
          "name": "stderr",
          "text": [
            "/usr/local/lib/python3.9/dist-packages/sklearn/metrics/_classification.py:1344: UndefinedMetricWarning: Precision is ill-defined and being set to 0.0 in labels with no predicted samples. Use `zero_division` parameter to control this behavior.\n",
            "  _warn_prf(average, modifier, msg_start, len(result))\n"
          ]
        }
      ]
    },
    {
      "cell_type": "markdown",
      "source": [
        "#Task 3. \n",
        "Compare the performance of selected classification algorithms (Decision Tree, kNN, Logistic Regression) and SVM (using different kernels) with mnist dataset based on accuracy, precision, recall, f1 measures.\n"
      ],
      "metadata": {
        "id": "b52OPWPD2afi"
      }
    },
    {
      "cell_type": "code",
      "source": [
        "#code\n",
        "# load the MNIST digits dataset\n",
        "mnist = datasets.load_digits()\n",
        "X3 = mnist.data\n",
        "y3 = mnist.target\n",
        "\n",
        "X_train3, X_test3, y_train3, y_test3 = train_test_split(X3, y3, test_size = 0.3, random_state= 53)\n",
        "\n",
        "# Logistic Regression\n",
        "lr3 = LogisticRegression();\n",
        "lr3.fit(X_train3, y_train3) \n",
        "y_pred_lr3 = lr3.predict(X_test3)\n",
        "# KNeighbors Classifier\n",
        "knn3 = KNeighborsClassifier(n_neighbors=5)\n",
        "knn3.fit(X_train3, y_train3)\n",
        "y_pred_knn3 = knn3.predict(X_test3)\n",
        "# Decision Tree Classifier\n",
        "dt3 = DecisionTreeClassifier()\n",
        "dt3.fit(X_train3, y_train3)\n",
        "y_pred_dt3 = dt3.predict(X_test3)\n",
        "\n",
        "\n",
        "#Linear Kernel\n",
        "svm_l3 = svm.SVC(kernel='linear')\n",
        "svm_l3.fit(X_train3, y_train3)\n",
        "y_pred_svm_l3 = svm_l3.predict(X_test3)\n",
        "#Polynomial Kernel\n",
        "svm_p3 = svm.SVC(kernel=\"poly\")\n",
        "svm_p3.fit(X_train3, y_train3)\n",
        "y_pred_svm_p3 = svm_p3.predict(X_test3)\n",
        "#Sigmoid Kernel \n",
        "svm_s3 = svm.SVC(kernel=\"sigmoid\")\n",
        "svm_s3.fit(X_train3, y_train3)\n",
        "y_pred_svm_s3 = svm_s3.predict(X_test3)\n",
        "#Radial Basis Function Kernel\n",
        "svm_r3 = svm.SVC(kernel=\"rbf\")\n",
        "svm_r3.fit(X_train3, y_train3)\n",
        "y_pred_svm_r3 = svm_r3.predict(X_test3)\n",
        "\n",
        "\n",
        "\n",
        "t3 = PrettyTable([\"Algorithm\", \"Accuracy\", \"Precision\", \"Recall\", \"F1 measures\"])\n",
        "t3.add_row([\"SVM Linear Kernel\",round(accuracy_score(y_test3, y_pred_svm_l3), 4) ,round(precision_score(y_test3, y_pred_svm_l3, average = 'macro'), 4) ,round(recall_score(y_test3, y_pred_svm_l3, average = 'macro'), 4) ,round(f1_score(y_test3, y_pred_svm_l3, average = 'macro'), 4) ])\n",
        "t3.add_row([\"SVM Polynomial Kernel\",round(accuracy_score(y_test3, y_pred_svm_p3), 4) ,round(precision_score(y_test3, y_pred_svm_p3, average = 'macro'), 4) ,round(recall_score(y_test3, y_pred_svm_p3, average = 'macro'), 4) ,round(f1_score(y_test3, y_pred_svm_p3, average = 'macro'), 4) ])\n",
        "t3.add_row([\"SVM Sigmoid Kernel\",round(accuracy_score(y_test3, y_pred_svm_s3), 4) ,round(precision_score(y_test3, y_pred_svm_s3, average = 'macro'), 4) ,round(recall_score(y_test3, y_pred_svm_s3, average = 'macro'), 4) ,round(f1_score(y_test3, y_pred_svm_s3, average = 'macro'), 4) ])\n",
        "t3.add_row([\"SVM Radial Basis Function Kernel\",round(accuracy_score(y_test3, y_pred_svm_r3), 4) ,round(precision_score(y_test3, y_pred_svm_r3, average = 'macro'), 4) ,round(recall_score(y_test3, y_pred_svm_r3, average = 'macro'), 4) ,round(f1_score(y_test3, y_pred_svm_r3, average = 'macro'), 4) ])\n",
        "t3.add_row([\"Logistic Regression\",round(accuracy_score(y_test3, y_pred_lr3), 4) ,round(precision_score(y_test3, y_pred_lr3, average = 'macro'), 4) ,round(recall_score(y_test3, y_pred_lr3, average = 'macro'), 4) ,round(f1_score(y_test3, y_pred_lr3, average = 'macro'), 4) ])\n",
        "t3.add_row([\"KNeighbors Classifier\",round(accuracy_score(y_test3, y_pred_knn3), 4) ,round(precision_score(y_test3, y_pred_knn3, average = 'macro'), 4) ,round(recall_score(y_test3, y_pred_knn3, average = 'macro'), 4) ,round(f1_score(y_test3, y_pred_knn3, average = 'macro'), 4) ])\n",
        "t3.add_row([\"DecisionTree Classifier\",round(accuracy_score(y_test3, y_pred_dt3), 4) ,round(precision_score(y_test3, y_pred_dt3, average = 'macro'), 4) ,round(recall_score(y_test3, y_pred_dt3, average = 'macro'), 4) ,round(f1_score(y_test3, y_pred_dt3, average = 'macro'), 4) ])\n",
        "print(t3)\n"
      ],
      "metadata": {
        "colab": {
          "base_uri": "https://localhost:8080/"
        },
        "id": "zUPqRixhALjJ",
        "outputId": "3a4adc4b-e359-42c6-d340-43782d6a41b4"
      },
      "execution_count": 7,
      "outputs": [
        {
          "output_type": "stream",
          "name": "stderr",
          "text": [
            "/usr/local/lib/python3.9/dist-packages/sklearn/linear_model/_logistic.py:458: ConvergenceWarning: lbfgs failed to converge (status=1):\n",
            "STOP: TOTAL NO. of ITERATIONS REACHED LIMIT.\n",
            "\n",
            "Increase the number of iterations (max_iter) or scale the data as shown in:\n",
            "    https://scikit-learn.org/stable/modules/preprocessing.html\n",
            "Please also refer to the documentation for alternative solver options:\n",
            "    https://scikit-learn.org/stable/modules/linear_model.html#logistic-regression\n",
            "  n_iter_i = _check_optimize_result(\n"
          ]
        },
        {
          "output_type": "stream",
          "name": "stdout",
          "text": [
            "+----------------------------------+----------+-----------+--------+-------------+\n",
            "|            Algorithm             | Accuracy | Precision | Recall | F1 measures |\n",
            "+----------------------------------+----------+-----------+--------+-------------+\n",
            "|        SVM Linear Kernel         |  0.9741  |   0.9759  | 0.9757 |    0.9755   |\n",
            "|      SVM Polynomial Kernel       |  0.9815  |   0.9823  | 0.9819 |    0.9819   |\n",
            "|        SVM Sigmoid Kernel        |  0.9019  |   0.9073  | 0.9077 |    0.9057   |\n",
            "| SVM Radial Basis Function Kernel |  0.9815  |   0.9824  | 0.9821 |    0.9819   |\n",
            "|       Logistic Regression        |  0.9537  |   0.9553  | 0.9559 |    0.9553   |\n",
            "|      KNeighbors Classifier       |  0.9759  |   0.9776  | 0.9775 |    0.9771   |\n",
            "|     DecisionTree Classifier      |  0.8481  |   0.8521  | 0.8511 |    0.8504   |\n",
            "+----------------------------------+----------+-----------+--------+-------------+\n"
          ]
        }
      ]
    },
    {
      "cell_type": "markdown",
      "source": [
        "#Task 4. \n",
        "Compare the performance of selected classification algorithms (Decision Tree, kNN, Logistic Regression) and SVM (using different kernels) with **credit card dataset** based on accuracy, precision, recall, f1 measures.\n",
        "\n",
        "*   Give some comments on the obtained results\n",
        "*   Identify issues with dataset, and propose the solutions to these issues\n",
        "\n"
      ],
      "metadata": {
        "id": "Z5pp7_h-aP2u"
      }
    },
    {
      "cell_type": "code",
      "source": [
        "# code\n",
        "data4 = pd.read_csv('creditcard.csv')\n",
        "X4 = data4.iloc[:, :-1]\n",
        "y4 = data4.iloc[:, -1]\n",
        "\n",
        "# chia dữ liệu theo tỉ lệ\n",
        "X_train4, X_test4, y_train4, y_test4 = train_test_split(X4, y4, test_size= 0.003, train_size= 0.007, random_state = 54)\n",
        "\n",
        "# Logistic Regression\n",
        "lr4 = LogisticRegression();\n",
        "lr4.fit(X_train4, y_train4) \n",
        "y_pred_lr4 = lr4.predict(X_test4)\n",
        "# KNeighbors Classifier\n",
        "knn4 = KNeighborsClassifier(n_neighbors=5)\n",
        "knn4.fit(X_train4, y_train4)\n",
        "y_pred_knn4 = knn4.predict(X_test4)\n",
        "# Decision Tree Classifier\n",
        "dt4 = DecisionTreeClassifier()\n",
        "dt4.fit(X_train4, y_train4)\n",
        "y_pred_dt4 = dt4.predict(X_test4)\n",
        "\n",
        "\n",
        "#Linear Kernel\n",
        "svm_l4 = svm.SVC(kernel='linear')\n",
        "svm_l4.fit(X_train4, y_train4)\n",
        "y_pred_svm_l4 = svm_l4.predict(X_test4)\n",
        "#Polynomial Kernel\n",
        "svm_p4 = svm.SVC(kernel=\"poly\")\n",
        "svm_p4.fit(X_train4, y_train4)\n",
        "y_pred_svm_p4 = svm_p4.predict(X_test4)\n",
        "#Sigmoid Kernel \n",
        "svm_s4 = svm.SVC(kernel=\"sigmoid\")\n",
        "svm_s4.fit(X_train4, y_train4)\n",
        "y_pred_svm_s4 = svm_s4.predict(X_test4)\n",
        "#Radial Basis Function Kernel\n",
        "svm_r4 = svm.SVC(kernel=\"rbf\")\n",
        "svm_r4.fit(X_train4, y_train4)\n",
        "y_pred_svm_r4 = svm_r4.predict(X_test4)\n",
        "\n",
        "\n",
        "\n",
        "t4 = PrettyTable([\"Algorithm\", \"Accuracy\", \"Precision\", \"Recall\", \"F1 measures\"])\n",
        "t4.add_row([\"SVM Linear Kernel\",round(accuracy_score(y_test4, y_pred_svm_l4), 4) ,round(precision_score(y_test4, y_pred_svm_l4, average = 'macro'), 4) ,round(recall_score(y_test4, y_pred_svm_l4, average = 'macro'), 4) ,round(f1_score(y_test4, y_pred_svm_l4, average = 'macro'), 4) ])\n",
        "t4.add_row([\"SVM Polynomial Kernel\",round(accuracy_score(y_test4, y_pred_svm_p4), 4) ,round(precision_score(y_test4, y_pred_svm_p4, average = 'macro'), 4) ,round(recall_score(y_test4, y_pred_svm_p4, average = 'macro'), 4) ,round(f1_score(y_test4, y_pred_svm_p4, average = 'macro'), 4) ])\n",
        "t4.add_row([\"SVM Sigmoid Kernel\",round(accuracy_score(y_test4, y_pred_svm_s4), 4) ,round(precision_score(y_test4, y_pred_svm_s4, average = 'macro'), 4) ,round(recall_score(y_test4, y_pred_svm_s4, average = 'macro'), 4) ,round(f1_score(y_test4, y_pred_svm_s4, average = 'macro'), 4) ])\n",
        "t4.add_row([\"SVM Radial Basis Function Kernel\",round(accuracy_score(y_test4, y_pred_svm_r4), 4) ,round(precision_score(y_test4, y_pred_svm_r4, average = 'macro'), 4) ,round(recall_score(y_test4, y_pred_svm_r4, average = 'macro'), 4) ,round(f1_score(y_test4, y_pred_svm_r4, average = 'macro'), 4) ])\n",
        "\n",
        "t4.add_row([\"Logistic Regression\",round(accuracy_score(y_test4, y_pred_lr4), 4) ,round(precision_score(y_test4, y_pred_lr4, average = 'macro'), 4) ,round(recall_score(y_test4, y_pred_lr4, average = 'macro'), 4) ,round(f1_score(y_test4, y_pred_lr4, average = 'macro'), 4) ])\n",
        "t4.add_row([\"KNeighbors Classifier\",round(accuracy_score(y_test4, y_pred_knn4), 4) ,round(precision_score(y_test4, y_pred_knn4, average = 'macro'), 4) ,round(recall_score(y_test4, y_pred_knn4, average = 'macro'), 4) ,round(f1_score(y_test4, y_pred_knn4, average = 'macro'), 4) ])\n",
        "t4.add_row([\"DecisionTree Classifier\",round(accuracy_score(y_test4, y_pred_dt4), 4) ,round(precision_score(y_test4, y_pred_dt4, average = 'macro'), 4) ,round(recall_score(y_test4, y_pred_dt4, average = 'macro'), 4) ,round(f1_score(y_test4, y_pred_dt4, average = 'macro'), 4) ])\n",
        "\n",
        "\n",
        "print(t4)\n",
        "\n",
        "print(\"\\n\\nNhận xét về kết quả thu được\\n\")\n",
        "print(\"SVM với linear kernel, Logistic Regression và Decision Tree Classifier cho kết quả tốt nhất với accuracy, precision, recall, f1\\ncó giá trị lần lượt là 0.9988, 0.9994, 0.75, 0.833\")\n",
        "print(\"SVM với polynomial kernel, sigmoid kernel, radial fasis function kernel và kneighbors regression cho kết quả tương đối với accuracy,\\nprecision, recall, f1 có giá trị lần lượt là 0.9977, 0.4988, 0.5, 0.4994 \")\n",
        "\n",
        "print(\"\\n\\nVấn đề của tập dữ liệu và giả pháp\\n\")\n",
        "print(\"Vấn đề là dữ liệu mất cân bằng\")\n",
        "print(\"Giải pháp\")\n",
        "print(\"+Thêm các mẫu dữ liệu có lớp thuộc lớp đang bị thiết\")\n",
        "print(\"+Loại bỏ các mẫu dữ liệu có lớp thuộc lớp đang bị dư (ưu tiên bỏ các mẫu dữ liệu ít quan trọng)\")\n",
        "print(\"+Sử dụng kĩ thuật lấy mẫu lại\")\n",
        "print(\"...\")\n",
        "\n",
        "\n"
      ],
      "metadata": {
        "id": "Rw_-8FIf2KxW",
        "colab": {
          "base_uri": "https://localhost:8080/"
        },
        "outputId": "34eddc84-b115-4a9b-abbe-d34f9f3d63eb"
      },
      "execution_count": 10,
      "outputs": [
        {
          "output_type": "stream",
          "name": "stderr",
          "text": [
            "/usr/local/lib/python3.9/dist-packages/sklearn/linear_model/_logistic.py:458: ConvergenceWarning: lbfgs failed to converge (status=1):\n",
            "STOP: TOTAL NO. of ITERATIONS REACHED LIMIT.\n",
            "\n",
            "Increase the number of iterations (max_iter) or scale the data as shown in:\n",
            "    https://scikit-learn.org/stable/modules/preprocessing.html\n",
            "Please also refer to the documentation for alternative solver options:\n",
            "    https://scikit-learn.org/stable/modules/linear_model.html#logistic-regression\n",
            "  n_iter_i = _check_optimize_result(\n"
          ]
        },
        {
          "output_type": "stream",
          "name": "stdout",
          "text": [
            "+----------------------------------+----------+-----------+--------+-------------+\n",
            "|            Algorithm             | Accuracy | Precision | Recall | F1 measures |\n",
            "+----------------------------------+----------+-----------+--------+-------------+\n",
            "|        SVM Linear Kernel         |  0.9988  |   0.9994  |  0.75  |    0.833    |\n",
            "|      SVM Polynomial Kernel       |  0.9977  |   0.4988  |  0.5   |    0.4994   |\n",
            "|        SVM Sigmoid Kernel        |  0.9977  |   0.4988  |  0.5   |    0.4994   |\n",
            "| SVM Radial Basis Function Kernel |  0.9977  |   0.4988  |  0.5   |    0.4994   |\n",
            "|       Logistic Regression        |  0.9988  |   0.9994  |  0.75  |    0.833    |\n",
            "|      KNeighbors Classifier       |  0.9977  |   0.4988  |  0.5   |    0.4994   |\n",
            "|     DecisionTree Classifier      |  0.9988  |   0.9994  |  0.75  |    0.833    |\n",
            "+----------------------------------+----------+-----------+--------+-------------+\n",
            "\n",
            "\n",
            "Nhận xét về kết quả thu được\n",
            "\n",
            "SVM với linear kernel, Logistic Regression và Decision Tree Classifier cho kết quả tốt nhất với accuracy, precision, recall, f1\n",
            "có giá trị lần lượt là 0.9988, 0.9994, 0.75, 0.833\n",
            "SVM với polynomial kernel, sigmoid kernel, radial fasis function kernel và kneighbors regression cho kết quả tương đối với accuracy,\n",
            "precision, recall, f1 có giá trị lần lượt là 0.9977, 0.4988, 0.5, 0.4994 \n",
            "\n",
            "\n",
            "Vấn đề của tập dữ liệu và giả pháp\n",
            "\n",
            "Vấn đề là dữ liệu mất cân bằng\n",
            "Giải pháp\n",
            "+Thêm các mẫu dữ liệu có lớp thuộc lớp đang bị thiết\n",
            "+Loại bỏ các mẫu dữ liệu có lớp thuộc lớp đang bị dư (ưu tiên bỏ các mẫu dữ liệu ít quan trọng)\n",
            "+Sử dụng kĩ thuật lấy mẫu lại\n",
            "...\n"
          ]
        },
        {
          "output_type": "stream",
          "name": "stderr",
          "text": [
            "/usr/local/lib/python3.9/dist-packages/sklearn/metrics/_classification.py:1344: UndefinedMetricWarning: Precision is ill-defined and being set to 0.0 in labels with no predicted samples. Use `zero_division` parameter to control this behavior.\n",
            "  _warn_prf(average, modifier, msg_start, len(result))\n",
            "/usr/local/lib/python3.9/dist-packages/sklearn/metrics/_classification.py:1344: UndefinedMetricWarning: Precision is ill-defined and being set to 0.0 in labels with no predicted samples. Use `zero_division` parameter to control this behavior.\n",
            "  _warn_prf(average, modifier, msg_start, len(result))\n",
            "/usr/local/lib/python3.9/dist-packages/sklearn/metrics/_classification.py:1344: UndefinedMetricWarning: Precision is ill-defined and being set to 0.0 in labels with no predicted samples. Use `zero_division` parameter to control this behavior.\n",
            "  _warn_prf(average, modifier, msg_start, len(result))\n",
            "/usr/local/lib/python3.9/dist-packages/sklearn/metrics/_classification.py:1344: UndefinedMetricWarning: Precision is ill-defined and being set to 0.0 in labels with no predicted samples. Use `zero_division` parameter to control this behavior.\n",
            "  _warn_prf(average, modifier, msg_start, len(result))\n"
          ]
        }
      ]
    },
    {
      "cell_type": "markdown",
      "source": [
        "#Finally,\n",
        "Save a copy in your Github. Remember renaming the notebook."
      ],
      "metadata": {
        "id": "Ok7RGkea_b7n"
      }
    }
  ]
}