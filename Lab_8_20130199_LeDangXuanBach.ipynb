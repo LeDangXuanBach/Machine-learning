{
  "nbformat": 4,
  "nbformat_minor": 0,
  "metadata": {
    "colab": {
      "provenance": [],
      "include_colab_link": true
    },
    "kernelspec": {
      "name": "python3",
      "display_name": "Python 3"
    },
    "language_info": {
      "name": "python"
    }
  },
  "cells": [
    {
      "cell_type": "markdown",
      "metadata": {
        "id": "view-in-github",
        "colab_type": "text"
      },
      "source": [
        "<a href=\"https://colab.research.google.com/github/LeDangXuanBach/Machine-learning/blob/main/Lab_8_20130199_LeDangXuanBach.ipynb\" target=\"_parent\"><img src=\"https://colab.research.google.com/assets/colab-badge.svg\" alt=\"Open In Colab\"/></a>"
      ]
    },
    {
      "cell_type": "markdown",
      "source": [
        "# This lab deals with **GridSearchCV** for tuning the hyper-parameters of an estimator and applying vectorization techniques to the **movie reviews dataset** for classification task. \n",
        "\n",
        "*   **Deadline: 23:59, 17/4/2023**\n",
        "\n"
      ],
      "metadata": {
        "id": "LMzehe0sy5wr"
      }
    },
    {
      "cell_type": "markdown",
      "source": [
        "# Import libraries"
      ],
      "metadata": {
        "id": "H4nJmxp9zGX4"
      }
    },
    {
      "cell_type": "code",
      "execution_count": 41,
      "metadata": {
        "id": "DoVWQ8AEyc-C"
      },
      "outputs": [],
      "source": [
        "# code\n",
        "from sklearn.model_selection import GridSearchCV\n",
        "from sklearn.datasets import load_iris\n",
        "\n",
        "\n",
        "from sklearn.svm import SVC\n",
        "from sklearn.neighbors import KNeighborsClassifier\n",
        "from sklearn.ensemble import RandomForestClassifier\n",
        "from sklearn.linear_model import LogisticRegression\n",
        "\n",
        "\n",
        "\n",
        "from sklearn import datasets\n",
        "\n",
        "from sklearn.model_selection import train_test_split\n",
        "\n",
        "from prettytable import PrettyTable\n",
        "\n",
        "from sklearn.metrics import confusion_matrix, ConfusionMatrixDisplay, accuracy_score, precision_score, recall_score, f1_score\n",
        "\n",
        "\n"
      ]
    },
    {
      "cell_type": "markdown",
      "source": [
        "#Task 1. With **iris** dataset\n",
        "*  1.1. Apply **GridSearchCV** for **SVM** to find the best hyperparameters using the following param_grid.\n",
        "\n",
        "```\n",
        "param_grid = {'C': [0.1, 1, 10, 100, 1000],\n",
        "              'gamma': [1, 0.1, 0.01, 0.001, 0.0001],\n",
        "              'kernel': ['rbf','linear']}\n",
        "```\n",
        "\n",
        "\n"
      ],
      "metadata": {
        "id": "x_dG9SA5OhGT"
      }
    },
    {
      "cell_type": "code",
      "source": [
        "#code\n",
        "iris = load_iris()\n",
        "X1 = iris.data\n",
        "y1 = iris.target\n",
        "\n",
        "X_train1, X_test1, y_train1, y_test1 = train_test_split(X1, y1, test_size= 0.3, random_state= 61)\n",
        "\n",
        "param_grid = {'C': [0.1, 1, 10, 100, 1000],\n",
        "              'gamma': [1, 0.1, 0.01, 0.001, 0.0001],\n",
        "              'kernel': ['rbf','linear']}\n",
        "\n",
        "svm = SVC()\n",
        "grid = GridSearchCV(estimator=svm, param_grid=param_grid, cv=5, refit = True)\n",
        "\n",
        "grid.fit(X_train1, y_train1)\n",
        "y_pred_svm = grid.predict(X_test1)\n"
      ],
      "metadata": {
        "id": "62jExOZ952fF"
      },
      "execution_count": 38,
      "outputs": []
    },
    {
      "cell_type": "markdown",
      "source": [
        "*  1.2. Apply **GridSearchCV** for **kNN** to find the best hyperparameters using the following param_grid.\n",
        "\n",
        "```\n",
        "grid_params = { 'n_neighbors' : [5,7,9,11,13,15],\n",
        "               'weights' : ['uniform','distance'],\n",
        "               'metric' : ['minkowski','euclidean','manhattan']}\n",
        "```\n",
        "where\n",
        "\n",
        "    *  **n_neighbors**: Decide the best k based on the values we have computed earlier.\n",
        "    *  **weights**: Check whether adding weights to the data points is beneficial to the model or not. 'uniform' assigns no weight, while 'distance' weighs points by the inverse of their distances meaning nearer points will have more weight than the farther points.\n",
        "    *  **metric**: The distance metric to be used will calculating the similarity.\n"
      ],
      "metadata": {
        "id": "2g--8cng53sY"
      }
    },
    {
      "cell_type": "code",
      "source": [
        "#code\n",
        "grid_params = { 'n_neighbors' : [5,7,9,11,13,15],\n",
        "               'weights' : ['uniform','distance'],\n",
        "               'metric' : ['minkowski','euclidean','manhattan']}\n",
        "knn = KNeighborsClassifier();\n",
        "grid_knn1 = GridSearchCV(estimator=knn, param_grid = grid_params, cv=5, scoring='accuracy', refit = True)\n",
        "grid_knn1.fit(X_train1, y_train1)\n",
        "\n",
        "y_pred_knn1 = grid_knn1.predict(X_test1)\n",
        "\n"
      ],
      "metadata": {
        "id": "fX0_kItYPism"
      },
      "execution_count": 39,
      "outputs": []
    },
    {
      "cell_type": "markdown",
      "source": [
        "*  1.3. Apply **GridSearchCV** for **Random Forest** to find the best hyperparameters using the following param_grid.\n",
        "\n",
        "```\n",
        "param_grid = {\n",
        "    'n_estimators': [25, 50, 100, 150],\n",
        "    'max_features': ['sqrt', 'log2', None],\n",
        "    'max_depth': [3, 6, 9],\n",
        "    'max_leaf_nodes': [3, 6, 9],\n",
        "}\n",
        "```"
      ],
      "metadata": {
        "id": "3lQSOcjL_TIW"
      }
    },
    {
      "cell_type": "code",
      "source": [
        "#code\n",
        "param_grid_rf = {\n",
        "    'n_estimators': [25, 50, 100, 150],\n",
        "    'max_features': ['sqrt', 'log2', None],\n",
        "    'max_depth': [3, 6, 9],\n",
        "    'max_leaf_nodes': [3, 6, 9],\n",
        "}\n",
        "\n",
        "rf = RandomForestClassifier()\n",
        "grid_rf1 = GridSearchCV(estimator=rf, param_grid=param_grid_rf, cv = 5, refit= True)\n",
        "grid_rf1.fit(X_train1, y_train1)\n",
        "\n",
        "y_pred_rf1 = grid_rf1.predict(X_test1)\n",
        "\n"
      ],
      "metadata": {
        "id": "OlyF9WpN_01p"
      },
      "execution_count": 40,
      "outputs": []
    },
    {
      "cell_type": "markdown",
      "source": [
        "*   1.4 Compare the best obtained results from 1.1 to 1.3 (use PrettyTable to dispaly the results)"
      ],
      "metadata": {
        "id": "G3N7TD7s_3Kp"
      }
    },
    {
      "cell_type": "code",
      "source": [
        "#code\n",
        "t1 = PrettyTable([\"Algorithm\", \"Best params\", \"Best score\",\"Accuracy\", \"Precision\", \"Recall\", \"F1 measures\"])\n",
        "t1.add_row([\"SVM\", grid.best_params_,round(grid.best_score_, 4),round(accuracy_score(y_test1, y_pred_svm), 4) ,round(precision_score(y_test1, y_pred_svm, average = 'macro'), 4) ,round(recall_score(y_test1, y_pred_svm, average = 'macro'), 4) ,round(f1_score(y_test1, y_pred_svm, average = 'macro'), 4)])\n",
        "t1.add_row([\"KNN\", grid_knn1.best_params_,round(grid_knn1.best_score_, 4), round(accuracy_score(y_test1, y_pred_knn1), 4) ,round(precision_score(y_test1, y_pred_knn1, average = 'macro'), 4) ,round(recall_score(y_test1, y_pred_knn1, average = 'macro'), 4) ,round(f1_score(y_test1, y_pred_knn1, average = 'macro'), 4) ])\n",
        "t1.add_row([\"Random Forest\", grid_rf1.best_params_,round(grid_knn1.best_score_, 4), round(accuracy_score(y_test1, y_pred_rf1), 4) ,round(precision_score(y_test1, y_pred_rf1, average = 'macro'), 4) ,round(recall_score(y_test1, y_pred_rf1, average = 'macro'), 4) ,round(f1_score(y_test1, y_pred_rf1, average = 'macro'), 4)])\n",
        "print(t1)"
      ],
      "metadata": {
        "colab": {
          "base_uri": "https://localhost:8080/"
        },
        "id": "JMP2iZedse9g",
        "outputId": "d9d220e8-14cc-47e3-9797-67fa0654e8be"
      },
      "execution_count": 43,
      "outputs": [
        {
          "output_type": "stream",
          "name": "stdout",
          "text": [
            "+---------------+-----------------------------------------------------------------------------------+------------+----------+-----------+--------+-------------+\n",
            "|   Algorithm   |                                    Best params                                    | Best score | Accuracy | Precision | Recall | F1 measures |\n",
            "+---------------+-----------------------------------------------------------------------------------+------------+----------+-----------+--------+-------------+\n",
            "|      SVM      |                     {'C': 100, 'gamma': 1, 'kernel': 'linear'}                    |   0.9714   |  0.9778  |   0.9792  | 0.9778 |    0.9778   |\n",
            "|      KNN      |          {'metric': 'minkowski', 'n_neighbors': 7, 'weights': 'distance'}         |   0.981    |  0.9556  |   0.9556  | 0.9556 |    0.9556   |\n",
            "| Random Forest | {'max_depth': 3, 'max_features': 'log2', 'max_leaf_nodes': 3, 'n_estimators': 50} |   0.981    |  0.9556  |   0.9556  | 0.9556 |    0.9556   |\n",
            "+---------------+-----------------------------------------------------------------------------------+------------+----------+-----------+--------+-------------+\n"
          ]
        }
      ]
    },
    {
      "cell_type": "markdown",
      "source": [
        "#Task 2. \n",
        "For breast cancer dataset (https://tinyurl.com/3vme8hr3) which could be loaded from datasets in sklearn as follows:\n",
        "\n",
        "```\n",
        "#Import scikit-learn dataset library\n",
        "from sklearn import datasets\n",
        "\n",
        "#Load dataset\n",
        "cancer = datasets.load_breast_cancer()\n",
        "```\n",
        "\n",
        "*   Apply **GridSearchCV** to different classification algorithms such as **SVM, kNN, LogisticRegression, RandomForest**.\n",
        "*   Compare the results obtained by the best hyperparameters among classification algorithms."
      ],
      "metadata": {
        "id": "kNv07ARGzOUm"
      }
    },
    {
      "cell_type": "code",
      "source": [
        "#code\n",
        "cancer = datasets.load_breast_cancer()\n",
        "X2 = cancer.data\n",
        "y2 = cancer.target\n",
        "X_train2, X_test2, y_train2, y_test2 = train_test_split(X2, y2, test_size = 0.3, random_state = 82)"
      ],
      "metadata": {
        "id": "lP47UE12AYM9"
      },
      "execution_count": 19,
      "outputs": []
    },
    {
      "cell_type": "markdown",
      "source": [
        "*   2.1. Apply **GridSearchCV** to **SVM** \n"
      ],
      "metadata": {
        "id": "pnoVB8J4vV36"
      }
    },
    {
      "cell_type": "code",
      "source": [
        "#code\n",
        "#SVM\n",
        "pg_svm = {'C': [0.1, 1],\n",
        "              'gamma': [1, 0.1],\n",
        "              'kernel': ['rbf', 'linear']}\n",
        "svm2 = SVC()\n",
        "gsc_svm2 = GridSearchCV(estimator=svm2, param_grid=pg_svm, cv = 5, refit=True)\n",
        "gsc_svm2.fit(X_train2, y_train2)\n",
        "y_pred_svm2 = gsc_svm2.predict(X_test2)\n"
      ],
      "metadata": {
        "id": "WcbN0RtCASUR"
      },
      "execution_count": 44,
      "outputs": []
    },
    {
      "cell_type": "markdown",
      "source": [
        "*   2.2. Apply **GridSearchCV** to **kNN** "
      ],
      "metadata": {
        "id": "ol1U_T_NvcqV"
      }
    },
    {
      "cell_type": "code",
      "source": [
        "#code\n",
        "#KNN\n",
        "pg_knn = {'n_neighbors': [3, 5, 7, 9],\n",
        "            'weights': ['uniform', 'distance'],\n",
        "            'p': [1, 2]}\n",
        "\n",
        "knn2 = KNeighborsClassifier()\n",
        "gsc_knn2 = GridSearchCV(estimator=knn2, param_grid= pg_knn, cv = 5, refit= True, scoring='accuracy')\n",
        "gsc_knn2.fit(X_train2, y_train2)\n",
        "y_pred_knn2 = gsc_knn2.predict(X_test2)\n"
      ],
      "metadata": {
        "id": "kt71yrAoBwYE"
      },
      "execution_count": 46,
      "outputs": []
    },
    {
      "cell_type": "markdown",
      "source": [
        "*   2.3. Apply **GridSearchCV** to **LogisticRegression** "
      ],
      "metadata": {
        "id": "pPkAvse-BxNa"
      }
    },
    {
      "cell_type": "code",
      "source": [
        "#code\n",
        "#Logistic Regression\n",
        "pg_lr = {'C': [0.1, 1, 10, 100]}\n",
        "lr = LogisticRegression();\n",
        "gsc_lr2 = GridSearchCV(estimator=lr, param_grid= pg_lr, cv = 5, refit= True, scoring='accuracy')\n",
        "gsc_lr2.fit(X_train2, y_train2)\n",
        "y_pred_lr2 = gsc_lr2.predict(X_test2)\n"
      ],
      "metadata": {
        "id": "nyYjpHFbB1Ci",
        "colab": {
          "base_uri": "https://localhost:8080/"
        },
        "outputId": "ebe6a090-2066-49d7-ac21-8bc051862bfd"
      },
      "execution_count": 47,
      "outputs": [
        {
          "output_type": "stream",
          "name": "stderr",
          "text": [
            "/usr/local/lib/python3.9/dist-packages/sklearn/linear_model/_logistic.py:458: ConvergenceWarning: lbfgs failed to converge (status=1):\n",
            "STOP: TOTAL NO. of ITERATIONS REACHED LIMIT.\n",
            "\n",
            "Increase the number of iterations (max_iter) or scale the data as shown in:\n",
            "    https://scikit-learn.org/stable/modules/preprocessing.html\n",
            "Please also refer to the documentation for alternative solver options:\n",
            "    https://scikit-learn.org/stable/modules/linear_model.html#logistic-regression\n",
            "  n_iter_i = _check_optimize_result(\n",
            "/usr/local/lib/python3.9/dist-packages/sklearn/linear_model/_logistic.py:458: ConvergenceWarning: lbfgs failed to converge (status=1):\n",
            "STOP: TOTAL NO. of ITERATIONS REACHED LIMIT.\n",
            "\n",
            "Increase the number of iterations (max_iter) or scale the data as shown in:\n",
            "    https://scikit-learn.org/stable/modules/preprocessing.html\n",
            "Please also refer to the documentation for alternative solver options:\n",
            "    https://scikit-learn.org/stable/modules/linear_model.html#logistic-regression\n",
            "  n_iter_i = _check_optimize_result(\n",
            "/usr/local/lib/python3.9/dist-packages/sklearn/linear_model/_logistic.py:458: ConvergenceWarning: lbfgs failed to converge (status=1):\n",
            "STOP: TOTAL NO. of ITERATIONS REACHED LIMIT.\n",
            "\n",
            "Increase the number of iterations (max_iter) or scale the data as shown in:\n",
            "    https://scikit-learn.org/stable/modules/preprocessing.html\n",
            "Please also refer to the documentation for alternative solver options:\n",
            "    https://scikit-learn.org/stable/modules/linear_model.html#logistic-regression\n",
            "  n_iter_i = _check_optimize_result(\n",
            "/usr/local/lib/python3.9/dist-packages/sklearn/linear_model/_logistic.py:458: ConvergenceWarning: lbfgs failed to converge (status=1):\n",
            "STOP: TOTAL NO. of ITERATIONS REACHED LIMIT.\n",
            "\n",
            "Increase the number of iterations (max_iter) or scale the data as shown in:\n",
            "    https://scikit-learn.org/stable/modules/preprocessing.html\n",
            "Please also refer to the documentation for alternative solver options:\n",
            "    https://scikit-learn.org/stable/modules/linear_model.html#logistic-regression\n",
            "  n_iter_i = _check_optimize_result(\n",
            "/usr/local/lib/python3.9/dist-packages/sklearn/linear_model/_logistic.py:458: ConvergenceWarning: lbfgs failed to converge (status=1):\n",
            "STOP: TOTAL NO. of ITERATIONS REACHED LIMIT.\n",
            "\n",
            "Increase the number of iterations (max_iter) or scale the data as shown in:\n",
            "    https://scikit-learn.org/stable/modules/preprocessing.html\n",
            "Please also refer to the documentation for alternative solver options:\n",
            "    https://scikit-learn.org/stable/modules/linear_model.html#logistic-regression\n",
            "  n_iter_i = _check_optimize_result(\n",
            "/usr/local/lib/python3.9/dist-packages/sklearn/linear_model/_logistic.py:458: ConvergenceWarning: lbfgs failed to converge (status=1):\n",
            "STOP: TOTAL NO. of ITERATIONS REACHED LIMIT.\n",
            "\n",
            "Increase the number of iterations (max_iter) or scale the data as shown in:\n",
            "    https://scikit-learn.org/stable/modules/preprocessing.html\n",
            "Please also refer to the documentation for alternative solver options:\n",
            "    https://scikit-learn.org/stable/modules/linear_model.html#logistic-regression\n",
            "  n_iter_i = _check_optimize_result(\n",
            "/usr/local/lib/python3.9/dist-packages/sklearn/linear_model/_logistic.py:458: ConvergenceWarning: lbfgs failed to converge (status=1):\n",
            "STOP: TOTAL NO. of ITERATIONS REACHED LIMIT.\n",
            "\n",
            "Increase the number of iterations (max_iter) or scale the data as shown in:\n",
            "    https://scikit-learn.org/stable/modules/preprocessing.html\n",
            "Please also refer to the documentation for alternative solver options:\n",
            "    https://scikit-learn.org/stable/modules/linear_model.html#logistic-regression\n",
            "  n_iter_i = _check_optimize_result(\n",
            "/usr/local/lib/python3.9/dist-packages/sklearn/linear_model/_logistic.py:458: ConvergenceWarning: lbfgs failed to converge (status=1):\n",
            "STOP: TOTAL NO. of ITERATIONS REACHED LIMIT.\n",
            "\n",
            "Increase the number of iterations (max_iter) or scale the data as shown in:\n",
            "    https://scikit-learn.org/stable/modules/preprocessing.html\n",
            "Please also refer to the documentation for alternative solver options:\n",
            "    https://scikit-learn.org/stable/modules/linear_model.html#logistic-regression\n",
            "  n_iter_i = _check_optimize_result(\n",
            "/usr/local/lib/python3.9/dist-packages/sklearn/linear_model/_logistic.py:458: ConvergenceWarning: lbfgs failed to converge (status=1):\n",
            "STOP: TOTAL NO. of ITERATIONS REACHED LIMIT.\n",
            "\n",
            "Increase the number of iterations (max_iter) or scale the data as shown in:\n",
            "    https://scikit-learn.org/stable/modules/preprocessing.html\n",
            "Please also refer to the documentation for alternative solver options:\n",
            "    https://scikit-learn.org/stable/modules/linear_model.html#logistic-regression\n",
            "  n_iter_i = _check_optimize_result(\n",
            "/usr/local/lib/python3.9/dist-packages/sklearn/linear_model/_logistic.py:458: ConvergenceWarning: lbfgs failed to converge (status=1):\n",
            "STOP: TOTAL NO. of ITERATIONS REACHED LIMIT.\n",
            "\n",
            "Increase the number of iterations (max_iter) or scale the data as shown in:\n",
            "    https://scikit-learn.org/stable/modules/preprocessing.html\n",
            "Please also refer to the documentation for alternative solver options:\n",
            "    https://scikit-learn.org/stable/modules/linear_model.html#logistic-regression\n",
            "  n_iter_i = _check_optimize_result(\n",
            "/usr/local/lib/python3.9/dist-packages/sklearn/linear_model/_logistic.py:458: ConvergenceWarning: lbfgs failed to converge (status=1):\n",
            "STOP: TOTAL NO. of ITERATIONS REACHED LIMIT.\n",
            "\n",
            "Increase the number of iterations (max_iter) or scale the data as shown in:\n",
            "    https://scikit-learn.org/stable/modules/preprocessing.html\n",
            "Please also refer to the documentation for alternative solver options:\n",
            "    https://scikit-learn.org/stable/modules/linear_model.html#logistic-regression\n",
            "  n_iter_i = _check_optimize_result(\n",
            "/usr/local/lib/python3.9/dist-packages/sklearn/linear_model/_logistic.py:458: ConvergenceWarning: lbfgs failed to converge (status=1):\n",
            "STOP: TOTAL NO. of ITERATIONS REACHED LIMIT.\n",
            "\n",
            "Increase the number of iterations (max_iter) or scale the data as shown in:\n",
            "    https://scikit-learn.org/stable/modules/preprocessing.html\n",
            "Please also refer to the documentation for alternative solver options:\n",
            "    https://scikit-learn.org/stable/modules/linear_model.html#logistic-regression\n",
            "  n_iter_i = _check_optimize_result(\n",
            "/usr/local/lib/python3.9/dist-packages/sklearn/linear_model/_logistic.py:458: ConvergenceWarning: lbfgs failed to converge (status=1):\n",
            "STOP: TOTAL NO. of ITERATIONS REACHED LIMIT.\n",
            "\n",
            "Increase the number of iterations (max_iter) or scale the data as shown in:\n",
            "    https://scikit-learn.org/stable/modules/preprocessing.html\n",
            "Please also refer to the documentation for alternative solver options:\n",
            "    https://scikit-learn.org/stable/modules/linear_model.html#logistic-regression\n",
            "  n_iter_i = _check_optimize_result(\n",
            "/usr/local/lib/python3.9/dist-packages/sklearn/linear_model/_logistic.py:458: ConvergenceWarning: lbfgs failed to converge (status=1):\n",
            "STOP: TOTAL NO. of ITERATIONS REACHED LIMIT.\n",
            "\n",
            "Increase the number of iterations (max_iter) or scale the data as shown in:\n",
            "    https://scikit-learn.org/stable/modules/preprocessing.html\n",
            "Please also refer to the documentation for alternative solver options:\n",
            "    https://scikit-learn.org/stable/modules/linear_model.html#logistic-regression\n",
            "  n_iter_i = _check_optimize_result(\n",
            "/usr/local/lib/python3.9/dist-packages/sklearn/linear_model/_logistic.py:458: ConvergenceWarning: lbfgs failed to converge (status=1):\n",
            "STOP: TOTAL NO. of ITERATIONS REACHED LIMIT.\n",
            "\n",
            "Increase the number of iterations (max_iter) or scale the data as shown in:\n",
            "    https://scikit-learn.org/stable/modules/preprocessing.html\n",
            "Please also refer to the documentation for alternative solver options:\n",
            "    https://scikit-learn.org/stable/modules/linear_model.html#logistic-regression\n",
            "  n_iter_i = _check_optimize_result(\n",
            "/usr/local/lib/python3.9/dist-packages/sklearn/linear_model/_logistic.py:458: ConvergenceWarning: lbfgs failed to converge (status=1):\n",
            "STOP: TOTAL NO. of ITERATIONS REACHED LIMIT.\n",
            "\n",
            "Increase the number of iterations (max_iter) or scale the data as shown in:\n",
            "    https://scikit-learn.org/stable/modules/preprocessing.html\n",
            "Please also refer to the documentation for alternative solver options:\n",
            "    https://scikit-learn.org/stable/modules/linear_model.html#logistic-regression\n",
            "  n_iter_i = _check_optimize_result(\n",
            "/usr/local/lib/python3.9/dist-packages/sklearn/linear_model/_logistic.py:458: ConvergenceWarning: lbfgs failed to converge (status=1):\n",
            "STOP: TOTAL NO. of ITERATIONS REACHED LIMIT.\n",
            "\n",
            "Increase the number of iterations (max_iter) or scale the data as shown in:\n",
            "    https://scikit-learn.org/stable/modules/preprocessing.html\n",
            "Please also refer to the documentation for alternative solver options:\n",
            "    https://scikit-learn.org/stable/modules/linear_model.html#logistic-regression\n",
            "  n_iter_i = _check_optimize_result(\n",
            "/usr/local/lib/python3.9/dist-packages/sklearn/linear_model/_logistic.py:458: ConvergenceWarning: lbfgs failed to converge (status=1):\n",
            "STOP: TOTAL NO. of ITERATIONS REACHED LIMIT.\n",
            "\n",
            "Increase the number of iterations (max_iter) or scale the data as shown in:\n",
            "    https://scikit-learn.org/stable/modules/preprocessing.html\n",
            "Please also refer to the documentation for alternative solver options:\n",
            "    https://scikit-learn.org/stable/modules/linear_model.html#logistic-regression\n",
            "  n_iter_i = _check_optimize_result(\n",
            "/usr/local/lib/python3.9/dist-packages/sklearn/linear_model/_logistic.py:458: ConvergenceWarning: lbfgs failed to converge (status=1):\n",
            "STOP: TOTAL NO. of ITERATIONS REACHED LIMIT.\n",
            "\n",
            "Increase the number of iterations (max_iter) or scale the data as shown in:\n",
            "    https://scikit-learn.org/stable/modules/preprocessing.html\n",
            "Please also refer to the documentation for alternative solver options:\n",
            "    https://scikit-learn.org/stable/modules/linear_model.html#logistic-regression\n",
            "  n_iter_i = _check_optimize_result(\n",
            "/usr/local/lib/python3.9/dist-packages/sklearn/linear_model/_logistic.py:458: ConvergenceWarning: lbfgs failed to converge (status=1):\n",
            "STOP: TOTAL NO. of ITERATIONS REACHED LIMIT.\n",
            "\n",
            "Increase the number of iterations (max_iter) or scale the data as shown in:\n",
            "    https://scikit-learn.org/stable/modules/preprocessing.html\n",
            "Please also refer to the documentation for alternative solver options:\n",
            "    https://scikit-learn.org/stable/modules/linear_model.html#logistic-regression\n",
            "  n_iter_i = _check_optimize_result(\n",
            "/usr/local/lib/python3.9/dist-packages/sklearn/linear_model/_logistic.py:458: ConvergenceWarning: lbfgs failed to converge (status=1):\n",
            "STOP: TOTAL NO. of ITERATIONS REACHED LIMIT.\n",
            "\n",
            "Increase the number of iterations (max_iter) or scale the data as shown in:\n",
            "    https://scikit-learn.org/stable/modules/preprocessing.html\n",
            "Please also refer to the documentation for alternative solver options:\n",
            "    https://scikit-learn.org/stable/modules/linear_model.html#logistic-regression\n",
            "  n_iter_i = _check_optimize_result(\n"
          ]
        }
      ]
    },
    {
      "cell_type": "markdown",
      "source": [
        "*   2.4. Apply **GridSearchCV** to **RandomForest** "
      ],
      "metadata": {
        "id": "3NjSLo5jB1xY"
      }
    },
    {
      "cell_type": "code",
      "source": [
        "#code\n",
        "#Random Forest\n",
        "pg_rf = {'n_estimators': [50, 100, 200],\n",
        "                 'max_depth': [None, 10, 20],\n",
        "                 'min_samples_split': [2, 5, 10]}\n",
        "rf = RandomForestClassifier()\n",
        "gsc_rf2 = GridSearchCV(estimator=rf, param_grid= pg_rf, cv = 5, refit= True, scoring='accuracy')\n",
        "gsc_rf2.fit(X_train2, y_train2)\n",
        "y_pred_rf2 = gsc_rf2.predict(X_test2)\n"
      ],
      "metadata": {
        "id": "nktGtM0PB7XB"
      },
      "execution_count": 48,
      "outputs": []
    },
    {
      "cell_type": "markdown",
      "source": [
        "*   2.5. Compare the best obtained results among classification algorithms (use PrettyTable to dispaly the results) "
      ],
      "metadata": {
        "id": "NZJ3BSHpB9Dx"
      }
    },
    {
      "cell_type": "code",
      "source": [
        "#code\n",
        "t2 = PrettyTable([\"Algorithm\", \"Best params\", \"Best score\",\"Accuracy\", \"Precision\", \"Recall\", \"F1 measures\"])\n",
        "t2.add_row([\"SVM\", gsc_svm2.best_params_,round(gsc_svm2.best_score_, 4), round(accuracy_score(y_test2, y_pred_svm2), 4) ,round(precision_score(y_test2, y_pred_svm2, average = 'macro'), 4) ,round(recall_score(y_test2, y_pred_svm2, average = 'macro'), 4) ,round(f1_score(y_test2, y_pred_svm2, average = 'macro'), 4)])\n",
        "t2.add_row([\"KNN\", gsc_knn2.best_params_,round(gsc_knn2.best_score_, 4),  round(accuracy_score(y_test2, y_pred_knn2), 4) ,round(precision_score(y_test2, y_pred_knn2, average = 'macro'), 4) ,round(recall_score(y_test2, y_pred_knn2, average = 'macro'), 4) ,round(f1_score(y_test2, y_pred_knn2, average = 'macro'), 4) ])\n",
        "t2.add_row([\"Logistic Regression\", gsc_lr2.best_params_,round(gsc_lr2.best_score_, 4),  round(accuracy_score(y_test2, y_pred_lr2), 4) ,round(precision_score(y_test2, y_pred_lr2, average = 'macro'), 4) ,round(recall_score(y_test2, y_pred_lr2, average = 'macro'), 4) ,round(f1_score(y_test2, y_pred_lr2, average = 'macro'), 4)])\n",
        "t2.add_row([\"Random Forest\", gsc_rf2.best_params_,round(gsc_rf2.best_score_, 4),  round(accuracy_score(y_test2, y_pred_rf2), 4) ,round(precision_score(y_test2, y_pred_rf2, average = 'macro'), 4) ,round(recall_score(y_test2, y_pred_rf2, average = 'macro'), 4) ,round(f1_score(y_test2, y_pred_rf2, average = 'macro'), 4)])\n",
        "print(t2)\n"
      ],
      "metadata": {
        "id": "8LS_IYfNCFEj",
        "colab": {
          "base_uri": "https://localhost:8080/"
        },
        "outputId": "d6eb4914-a7de-47a6-89c2-97fd8f4aa495"
      },
      "execution_count": 49,
      "outputs": [
        {
          "output_type": "stream",
          "name": "stdout",
          "text": [
            "+---------------------+----------------------------------------------------------------+------------+----------+-----------+--------+-------------+\n",
            "|      Algorithm      |                          Best params                           | Best score | Accuracy | Precision | Recall | F1 measures |\n",
            "+---------------------+----------------------------------------------------------------+------------+----------+-----------+--------+-------------+\n",
            "|         SVM         |            {'C': 1, 'gamma': 1, 'kernel': 'linear'}            |   0.9548   |  0.9415  |   0.9423  | 0.9264 |    0.9336   |\n",
            "|         KNN         |        {'n_neighbors': 7, 'p': 1, 'weights': 'uniform'}        |   0.9573   |  0.9357  |   0.9429  | 0.9136 |    0.9259   |\n",
            "| Logistic Regression |                            {'C': 1}                            |   0.9472   |  0.9123  |   0.915   | 0.8875 |    0.899    |\n",
            "|    Random Forest    | {'max_depth': 20, 'min_samples_split': 2, 'n_estimators': 200} |   0.9573   |  0.9532  |   0.961   | 0.9352 |    0.9464   |\n",
            "+---------------------+----------------------------------------------------------------+------------+----------+-----------+--------+-------------+\n"
          ]
        }
      ]
    },
    {
      "cell_type": "markdown",
      "source": [
        "#Task 3. \n",
        "The dataset consists of **2000 user-created movie reviews** archived on the IMDb(Internet Movie Database). The reviews are equally partitioned into a positive set and a negative set (1000+1000). Each review consists of a plain text file (.txt) and a class label representing the overall user opinion. \n",
        "The class attribute has only two values: **pos** (positive) or **neg** (negative).\n"
      ],
      "metadata": {
        "id": "b52OPWPD2afi"
      }
    },
    {
      "cell_type": "markdown",
      "source": [
        "*   3.1 Importing additional libraries"
      ],
      "metadata": {
        "id": "lDcxOQRmDz_h"
      }
    },
    {
      "cell_type": "code",
      "source": [
        "import nltk, random\n",
        "nltk.download('movie_reviews')#download movie reviews dataset\n",
        "from nltk.corpus import movie_reviews\n",
        "import pandas as pd\n",
        "import matplotlib.pyplot as plt\n",
        "import numpy as np\n",
        "from sklearn.model_selection import cross_val_score\n",
        "from collections import Counter\n",
        "from sklearn.model_selection import train_test_split"
      ],
      "metadata": {
        "id": "ZjyW06skDwvL",
        "colab": {
          "base_uri": "https://localhost:8080/"
        },
        "outputId": "f64a7420-c2a3-46f1-c6c0-68eb4d0d1931"
      },
      "execution_count": 27,
      "outputs": [
        {
          "output_type": "stream",
          "name": "stderr",
          "text": [
            "[nltk_data] Downloading package movie_reviews to /root/nltk_data...\n",
            "[nltk_data]   Unzipping corpora/movie_reviews.zip.\n"
          ]
        }
      ]
    },
    {
      "cell_type": "markdown",
      "source": [
        "*   3.2. Movie reviews information"
      ],
      "metadata": {
        "id": "RJpsTIiyv-1h"
      }
    },
    {
      "cell_type": "code",
      "source": [
        "#code\n",
        "print(len(movie_reviews.fileids()))\n",
        "print(movie_reviews.categories())\n",
        "print(movie_reviews.words()[:100])\n",
        "print(movie_reviews.fileids()[:10])"
      ],
      "metadata": {
        "id": "5ZE7A0Au1Pg0",
        "colab": {
          "base_uri": "https://localhost:8080/"
        },
        "outputId": "25fddde5-118a-4069-8ef5-b5b6d6f3f5c3"
      },
      "execution_count": 28,
      "outputs": [
        {
          "output_type": "stream",
          "name": "stdout",
          "text": [
            "2000\n",
            "['neg', 'pos']\n",
            "['plot', ':', 'two', 'teen', 'couples', 'go', 'to', ...]\n",
            "['neg/cv000_29416.txt', 'neg/cv001_19502.txt', 'neg/cv002_17424.txt', 'neg/cv003_12683.txt', 'neg/cv004_12641.txt', 'neg/cv005_29357.txt', 'neg/cv006_17022.txt', 'neg/cv007_4992.txt', 'neg/cv008_29326.txt', 'neg/cv009_29417.txt']\n"
          ]
        }
      ]
    },
    {
      "cell_type": "markdown",
      "source": [
        "*   3.3. Create dataset from movie reviews"
      ],
      "metadata": {
        "id": "6pHmMpqMHS23"
      }
    },
    {
      "cell_type": "code",
      "source": [
        "documents = [(list(movie_reviews.words(fileid)), category)\n",
        "             for category in movie_reviews.categories()\n",
        "             for fileid in movie_reviews.fileids(category)]\n",
        "random.seed(123)\n",
        "random.shuffle(documents)"
      ],
      "metadata": {
        "id": "45aY6woMHSH5"
      },
      "execution_count": 29,
      "outputs": []
    },
    {
      "cell_type": "code",
      "source": [
        "print('Number of Reviews/Documents: {}'.format(len(documents)))\n",
        "print('Corpus Size (words): {}'.format(np.sum([len(d) for (d,l) in documents])))\n",
        "print('Sample Text of Doc 1:')\n",
        "print('-'*30)\n",
        "print(' '.join(documents[0][0][:50])) # first 50 words of the first document"
      ],
      "metadata": {
        "id": "NNke0Da5HqFa",
        "colab": {
          "base_uri": "https://localhost:8080/"
        },
        "outputId": "eef61473-ddf5-4ba0-a677-62875cc41abe"
      },
      "execution_count": 30,
      "outputs": [
        {
          "output_type": "stream",
          "name": "stdout",
          "text": [
            "Number of Reviews/Documents: 2000\n",
            "Corpus Size (words): 1583820\n",
            "Sample Text of Doc 1:\n",
            "------------------------------\n",
            "most movies seem to release a third movie just so it can be called a trilogy . rocky iii seems to kind of fit in that category , but manages to be slightly unique . the rocky formula of \" rocky loses fight / rocky trains / rocky wins fight\n"
          ]
        }
      ]
    },
    {
      "cell_type": "code",
      "source": [
        "sentiment_distr = Counter([label for (words, label) in documents])\n",
        "print(sentiment_distr)"
      ],
      "metadata": {
        "id": "vVFUEhnXHsGd",
        "colab": {
          "base_uri": "https://localhost:8080/"
        },
        "outputId": "a08ae98c-e8ce-4fa6-d161-5bb51e9b9193"
      },
      "execution_count": 31,
      "outputs": [
        {
          "output_type": "stream",
          "name": "stdout",
          "text": [
            "Counter({'pos': 1000, 'neg': 1000})\n"
          ]
        }
      ]
    },
    {
      "cell_type": "markdown",
      "source": [
        "*   3.4. Train test split"
      ],
      "metadata": {
        "id": "jTXiEbMzHgVC"
      }
    },
    {
      "cell_type": "code",
      "source": [
        "train, test = train_test_split(documents, test_size = 0.33, random_state=42)"
      ],
      "metadata": {
        "id": "v_-0gZZFHvJN"
      },
      "execution_count": 32,
      "outputs": []
    },
    {
      "cell_type": "code",
      "source": [
        "## Sentiment Distrubtion for Train and Test\n",
        "print(Counter([label for (words, label) in train]))\n",
        "print(Counter([label for (words, label) in test]))"
      ],
      "metadata": {
        "id": "UUGlm5TGHvpV",
        "colab": {
          "base_uri": "https://localhost:8080/"
        },
        "outputId": "518bd252-9748-4602-9fee-d76e4f8e393e"
      },
      "execution_count": 33,
      "outputs": [
        {
          "output_type": "stream",
          "name": "stdout",
          "text": [
            "Counter({'neg': 674, 'pos': 666})\n",
            "Counter({'pos': 334, 'neg': 326})\n"
          ]
        }
      ]
    },
    {
      "cell_type": "code",
      "source": [
        "X_train = [' '.join(words) for (words, label) in train]\n",
        "X_test = [' '.join(words) for (words, label) in test]\n",
        "y_train = [label for (words, label) in train]\n",
        "y_test = [label for (words, label) in test]"
      ],
      "metadata": {
        "id": "l1ppl_0RHx1P"
      },
      "execution_count": 34,
      "outputs": []
    },
    {
      "cell_type": "markdown",
      "source": [
        "*   3.5. Text Vectorization"
      ],
      "metadata": {
        "id": "7xUaXrjxH6Ee"
      }
    },
    {
      "cell_type": "code",
      "source": [
        "from sklearn.feature_extraction.text import CountVectorizer, TfidfVectorizer\n",
        "\n",
        "tfidf_vec = TfidfVectorizer(min_df = 10, token_pattern = r'[a-zA-Z]+')\n",
        "X_train_bow = tfidf_vec.fit_transform(X_train) # fit train\n",
        "X_test_bow = tfidf_vec.transform(X_test) # transform test"
      ],
      "metadata": {
        "id": "fzwM0nsIH-8l"
      },
      "execution_count": 35,
      "outputs": []
    },
    {
      "cell_type": "markdown",
      "source": [
        "*   3.6. Apply **SVM** with **GridSearchCV** "
      ],
      "metadata": {
        "id": "BP1vB3loIF28"
      }
    },
    {
      "cell_type": "code",
      "source": [
        "#code\n",
        "#SVM\n",
        "pg_svm3 = {'C': [0.1, 1],\n",
        "              'gamma': [1, 0.1],\n",
        "              'kernel': ['rbf', 'linear']}\n",
        "svm3 = SVC()\n",
        "gsc_svm3 = GridSearchCV(estimator=svm3, param_grid=pg_svm3, cv = 5, refit=True)\n",
        "gsc_svm3.fit(X_train_bow, y_train)\n",
        "y_pred_svm3 = gsc_svm3.predict(X_test_bow)"
      ],
      "metadata": {
        "id": "b3FHQqh1Hlrd"
      },
      "execution_count": 50,
      "outputs": []
    },
    {
      "cell_type": "markdown",
      "source": [
        "*   3.7. Apply **RandomForest** with **GridSearchCV** "
      ],
      "metadata": {
        "id": "N1Fy8jYBIdxi"
      }
    },
    {
      "cell_type": "code",
      "source": [
        "#code\n",
        "#Random Forest\n",
        "pg_rf3 = {'n_estimators': [50, 100, 200],\n",
        "                 'max_depth': [None, 10, 20],\n",
        "                 'min_samples_split': [2, 5, 10]}\n",
        "rf3 = RandomForestClassifier()\n",
        "gsc_rf3 = GridSearchCV(estimator=rf3, param_grid= pg_rf3, cv = 5, refit= True, scoring='accuracy')\n",
        "gsc_rf3.fit(X_train_bow, y_train)\n",
        "y_pred_rf3 = gsc_rf3.predict(X_test_bow)"
      ],
      "metadata": {
        "id": "Fyfw2R-gIhWl"
      },
      "execution_count": 51,
      "outputs": []
    },
    {
      "cell_type": "markdown",
      "source": [
        "*   3.8. Apply **kNN** with **GridSearchCV** "
      ],
      "metadata": {
        "id": "_btsVKjIIiLT"
      }
    },
    {
      "cell_type": "code",
      "source": [
        "#code\n",
        "#KNN\n",
        "pg_knn3 = {'n_neighbors': [3, 5],\n",
        "            'weights': ['uniform', 'distance'],\n",
        "            'p': [1]}\n",
        "\n",
        "knn3 = KNeighborsClassifier()\n",
        "gsc_knn3 = GridSearchCV(estimator=knn3, param_grid= pg_knn3, cv = 5, refit= True, scoring='accuracy')\n",
        "gsc_knn3.fit(X_train_bow, y_train)\n",
        "y_pred_knn3 = gsc_knn3.predict(X_test_bow)"
      ],
      "metadata": {
        "id": "IZmFu1ZQImhn"
      },
      "execution_count": 55,
      "outputs": []
    },
    {
      "cell_type": "markdown",
      "source": [
        "*   3.9. Apply **LogisticRegression** with **GridSearchCV** "
      ],
      "metadata": {
        "id": "0Ix_HeVGIvDu"
      }
    },
    {
      "cell_type": "code",
      "source": [
        "#code\n",
        "#Logistic Regression\n",
        "pg_lr3 = {'C': [0.1, 1, 10, 100]}\n",
        "lr3 = LogisticRegression();\n",
        "gsc_lr3 = GridSearchCV(estimator=lr3, param_grid= pg_lr3, cv = 5, refit= True, scoring='accuracy')\n",
        "gsc_lr3.fit(X_train_bow, y_train)\n",
        "y_pred_lr3 = gsc_lr3.predict(X_test_bow)"
      ],
      "metadata": {
        "id": "sTd3alCMIr-i",
        "colab": {
          "base_uri": "https://localhost:8080/"
        },
        "outputId": "f92d6ce2-ca61-4b9b-bde7-9ab0dd05cd75"
      },
      "execution_count": 56,
      "outputs": [
        {
          "output_type": "stream",
          "name": "stderr",
          "text": [
            "/usr/local/lib/python3.9/dist-packages/sklearn/linear_model/_logistic.py:458: ConvergenceWarning: lbfgs failed to converge (status=1):\n",
            "STOP: TOTAL NO. of ITERATIONS REACHED LIMIT.\n",
            "\n",
            "Increase the number of iterations (max_iter) or scale the data as shown in:\n",
            "    https://scikit-learn.org/stable/modules/preprocessing.html\n",
            "Please also refer to the documentation for alternative solver options:\n",
            "    https://scikit-learn.org/stable/modules/linear_model.html#logistic-regression\n",
            "  n_iter_i = _check_optimize_result(\n",
            "/usr/local/lib/python3.9/dist-packages/sklearn/linear_model/_logistic.py:458: ConvergenceWarning: lbfgs failed to converge (status=1):\n",
            "STOP: TOTAL NO. of ITERATIONS REACHED LIMIT.\n",
            "\n",
            "Increase the number of iterations (max_iter) or scale the data as shown in:\n",
            "    https://scikit-learn.org/stable/modules/preprocessing.html\n",
            "Please also refer to the documentation for alternative solver options:\n",
            "    https://scikit-learn.org/stable/modules/linear_model.html#logistic-regression\n",
            "  n_iter_i = _check_optimize_result(\n"
          ]
        }
      ]
    },
    {
      "cell_type": "markdown",
      "source": [
        "*   3.10. Compare the best obtained results among classification algorithms (use PrettyTable to dispaly the results) "
      ],
      "metadata": {
        "id": "nhYF2y6eI058"
      }
    },
    {
      "cell_type": "code",
      "source": [
        "#code\n",
        "t3 = PrettyTable([\"Algorithm\", \"Best params\", \"Best score\",\"Accuracy\", \"Precision\", \"Recall\", \"F1 measures\"])\n",
        "t3.add_row([\"SVM\", gsc_svm3.best_params_,round(gsc_svm3.best_score_, 4), round(accuracy_score(y_test, y_pred_svm3), 4) ,round(precision_score(y_test, y_pred_svm3, average = 'macro'), 4) ,round(recall_score(y_test, y_pred_svm3, average = 'macro'), 4) ,round(f1_score(y_test, y_pred_svm3, average = 'macro'), 4)])\n",
        "t3.add_row([\"KNN\", gsc_knn3.best_params_,round(gsc_knn3.best_score_, 4),  round(accuracy_score(y_test, y_pred_knn3), 4) ,round(precision_score(y_test, y_pred_knn3, average = 'macro'), 4) ,round(recall_score(y_test, y_pred_knn3, average = 'macro'), 4) ,round(f1_score(y_test, y_pred_knn3, average = 'macro'), 4) ])\n",
        "t3.add_row([\"Logistic Regression\", gsc_lr3.best_params_,round(gsc_lr3.best_score_, 4),  round(accuracy_score(y_test, y_pred_lr3), 4) ,round(precision_score(y_test, y_pred_lr3, average = 'macro'), 4) ,round(recall_score(y_test, y_pred_lr3, average = 'macro'), 4) ,round(f1_score(y_test, y_pred_lr3, average = 'macro'), 4)])\n",
        "t3.add_row([\"Random Forest\", gsc_rf3.best_params_,round(gsc_rf3.best_score_, 4),  round(accuracy_score(y_test, y_pred_rf3), 4) ,round(precision_score(y_test, y_pred_rf3, average = 'macro'), 4) ,round(recall_score(y_test, y_pred_rf3, average = 'macro'), 4) ,round(f1_score(y_test, y_pred_rf3, average = 'macro'), 4)])\n",
        "print(t3)"
      ],
      "metadata": {
        "colab": {
          "base_uri": "https://localhost:8080/"
        },
        "id": "rm1nGRUL0My4",
        "outputId": "800a2772-979a-4999-ccd0-883e3dafb55d"
      },
      "execution_count": 57,
      "outputs": [
        {
          "output_type": "stream",
          "name": "stdout",
          "text": [
            "+---------------------+----------------------------------------------------------------+------------+----------+-----------+--------+-------------+\n",
            "|      Algorithm      |                          Best params                           | Best score | Accuracy | Precision | Recall | F1 measures |\n",
            "+---------------------+----------------------------------------------------------------+------------+----------+-----------+--------+-------------+\n",
            "|         SVM         |            {'C': 1, 'gamma': 1, 'kernel': 'linear'}            |   0.847    |  0.8106  |   0.8111  | 0.8103 |    0.8104   |\n",
            "|         KNN         |       {'n_neighbors': 5, 'p': 1, 'weights': 'distance'}        |   0.5791   |  0.5924  |   0.6093  | 0.5947 |    0.5792   |\n",
            "| Logistic Regression |                           {'C': 100}                           |   0.8537   |  0.8197  |   0.8199  | 0.8195 |    0.8196   |\n",
            "|    Random Forest    | {'max_depth': 20, 'min_samples_split': 2, 'n_estimators': 200} |   0.8179   |  0.7864  |   0.7864  | 0.7864 |    0.7864   |\n",
            "+---------------------+----------------------------------------------------------------+------------+----------+-----------+--------+-------------+\n"
          ]
        }
      ]
    },
    {
      "cell_type": "markdown",
      "source": [
        "#Finally,\n",
        "Save a copy in your Github. Remember renaming the notebook."
      ],
      "metadata": {
        "id": "Ok7RGkea_b7n"
      }
    }
  ]
}