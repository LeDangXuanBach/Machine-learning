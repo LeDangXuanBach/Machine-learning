{
  "nbformat": 4,
  "nbformat_minor": 0,
  "metadata": {
    "colab": {
      "provenance": [],
      "include_colab_link": true
    },
    "kernelspec": {
      "name": "python3",
      "display_name": "Python 3"
    },
    "language_info": {
      "name": "python"
    }
  },
  "cells": [
    {
      "cell_type": "markdown",
      "metadata": {
        "id": "view-in-github",
        "colab_type": "text"
      },
      "source": [
        "<a href=\"https://colab.research.google.com/github/LeDangXuanBach/Machine-learning/blob/main/Lab_6_20130199_LeDangXuanBach.ipynb\" target=\"_parent\"><img src=\"https://colab.research.google.com/assets/colab-badge.svg\" alt=\"Open In Colab\"/></a>"
      ]
    },
    {
      "cell_type": "markdown",
      "source": [
        "# This lab is to deal with classification task using **Random Forests** and **Naïve Bayes** algorithms with/without **Feature Selection**. \n",
        "\n",
        "*   **Deadline: 23:59, 25/03/2023**\n",
        "\n"
      ],
      "metadata": {
        "id": "LMzehe0sy5wr"
      }
    },
    {
      "cell_type": "markdown",
      "source": [
        "# Kết Nối Drive"
      ],
      "metadata": {
        "id": "33u7uAarIiZT"
      }
    },
    {
      "cell_type": "code",
      "source": [
        "# Kết nối drive\n",
        "#code\n",
        "from google.colab import drive\n",
        "drive.mount('/content/gdrive')\n",
        "%cd '/content/gdrive/MyDrive/ML'"
      ],
      "metadata": {
        "colab": {
          "base_uri": "https://localhost:8080/"
        },
        "id": "zRDDfbPTIhmq",
        "outputId": "63afd26e-6e1c-4f86-acc9-cc6b13e07b69"
      },
      "execution_count": 1,
      "outputs": [
        {
          "output_type": "stream",
          "name": "stdout",
          "text": [
            "Mounted at /content/gdrive\n",
            "/content/gdrive/MyDrive/ML\n"
          ]
        }
      ]
    },
    {
      "cell_type": "markdown",
      "source": [
        "# Import libraries"
      ],
      "metadata": {
        "id": "H4nJmxp9zGX4"
      }
    },
    {
      "cell_type": "code",
      "execution_count": 49,
      "metadata": {
        "id": "DoVWQ8AEyc-C"
      },
      "outputs": [],
      "source": [
        "# code\n",
        "import pandas as pd\n",
        "import numpy as np\n",
        "from sklearn import datasets\n",
        "from sklearn.model_selection import train_test_split\n",
        "from sklearn.metrics import confusion_matrix, ConfusionMatrixDisplay, accuracy_score, precision_score, recall_score, f1_score\n",
        "from prettytable import PrettyTable\n",
        "\n",
        "from sklearn import svm \n",
        "from sklearn.tree import DecisionTreeClassifier\n",
        "from sklearn.neighbors import KNeighborsClassifier\n",
        "from sklearn.ensemble import RandomForestClassifier\n",
        "from sklearn.naive_bayes import GaussianNB\n",
        "from sklearn.naive_bayes import CategoricalNB\n",
        "\n",
        "from numpy import set_printoptions\n",
        "from sklearn.feature_selection import SelectKBest\n",
        "from sklearn.feature_selection import f_classif\n",
        "from sklearn.feature_selection import RFE\n",
        "from sklearn.linear_model import LogisticRegression\n",
        "from sklearn.decomposition import PCA\n",
        "from sklearn.ensemble import ExtraTreesClassifier\n",
        "\n",
        "from pandas import read_csv\n",
        "from numpy import set_printoptions\n",
        "\n",
        "\n",
        "from sklearn.preprocessing import StandardScaler\n",
        "\n",
        "from sklearn.preprocessing import OneHotEncoder\n",
        "\n",
        "import matplotlib.pyplot as plt\n",
        "import seaborn as sns\n",
        "from sklearn.impute import SimpleImputer\n",
        "from sklearn import preprocessing\n",
        "from sklearn.linear_model import LinearRegression\n",
        "from sklearn import metrics\n",
        "\n",
        "\n",
        "\n",
        "\n"
      ]
    },
    {
      "cell_type": "markdown",
      "source": [
        "#Task 1. \n",
        "Task 1. Compare the performance of selected classification algorithms including **Random forest**, **NaiveBayes**, and **SVM** with **mnist** dataset based on **accuracy, precision, recall, f1** measures according to **without using selection feature** and **using selection feature**.\n",
        "\n"
      ],
      "metadata": {
        "id": "kNv07ARGzOUm"
      }
    },
    {
      "cell_type": "code",
      "source": [
        "# code\n",
        "# load the MNIST digits dataset\n",
        "mnist = datasets.load_digits()\n",
        "X1 = mnist.data\n",
        "y1 = mnist.target\n",
        "X_train1, X_test1, y_train1, y_test1 = train_test_split(X1, y1, test_size= 0.3, random_state= 61)\n",
        "\n",
        "\n",
        "# without using selection feature\n",
        "\n",
        "# SVM Linear Kernel\n",
        "svm_l1 = svm.SVC(kernel='linear')\n",
        "svm_l1.fit(X_train1, y_train1)\n",
        "y_pred_svm_l1 = svm_l1.predict(X_test1)\n",
        "\n",
        "# Random Forest\n",
        "rf1 = RandomForestClassifier(n_estimators=100)\n",
        "rf1.fit(X_train1,y_train1)\n",
        "y_pred_rf1 = rf1.predict(X_test1)\n",
        "# Naive Bayes\n",
        "# GaussianNB (liên tục)\n",
        "gnb1 = GaussianNB()\n",
        "gnb1.fit(X_train1, y_train1)\n",
        "y_pred_gnb1 = gnb1.predict(X_test1)\n",
        "\n",
        "t1 = PrettyTable([\"Algorithm\", \"Accuracy\", \"Precision\", \"Recall\", \"F1 measures\"])\n",
        "t1.add_row([\"SVM Linear Kernel\",round(accuracy_score(y_test1, y_pred_svm_l1), 4) ,round(precision_score(y_test1, y_pred_svm_l1, average = 'macro'), 4) ,round(recall_score(y_test1, y_pred_svm_l1, average = 'macro'), 4) ,round(f1_score(y_test1, y_pred_svm_l1, average = 'macro'), 4) ])\n",
        "t1.add_row([\"Random Forest Classifier\",round(accuracy_score(y_test1, y_pred_rf1), 4) ,round(precision_score(y_test1, y_pred_rf1, average = 'macro'), 4) ,round(recall_score(y_test1, y_pred_rf1, average = 'macro'), 4) ,round(f1_score(y_test1, y_pred_rf1, average = 'macro'), 4) ])\n",
        "t1.add_row([\"GaussianNB\",round(accuracy_score(y_test1, y_pred_gnb1), 4) ,round(precision_score(y_test1, y_pred_gnb1, average = 'macro'), 4) ,round(recall_score(y_test1, y_pred_gnb1, average = 'macro'), 4) ,round(f1_score(y_test1, y_pred_gnb1, average = 'macro'), 4) ])\n",
        "print(\"Without using selection feature\")\n",
        "print(t1)\n",
        "\n",
        "\n",
        "# using selection feature\n",
        "\n",
        "X1 = SelectKBest(f_classif, k = 50).fit_transform(X1, y1)\n",
        "\n",
        "X_train1, X_test1, y_train1, y_test1 = train_test_split(X1, y1, test_size= 0.3, random_state= 61)\n",
        "\n",
        "\n",
        "\n",
        "# SVM Linear Kernel\n",
        "svm_l1 = svm.SVC(kernel='linear')\n",
        "svm_l1.fit(X_train1, y_train1)\n",
        "y_pred_svm_l1 = svm_l1.predict(X_test1)\n",
        "\n",
        "# Random Forest\n",
        "rf1 = RandomForestClassifier(n_estimators=100)\n",
        "rf1.fit(X_train1,y_train1)\n",
        "y_pred_rf1 = rf1.predict(X_test1)\n",
        "# Naive Bayes\n",
        "# GaussianNB (liên tục)\n",
        "gnb1 = GaussianNB()\n",
        "gnb1.fit(X_train1, y_train1)\n",
        "y_pred_gnb1 = gnb1.predict(X_test1)\n",
        "\n",
        "t1 = PrettyTable([\"Algorithm\", \"Accuracy\", \"Precision\", \"Recall\", \"F1 measures\"])\n",
        "t1.add_row([\"SVM Linear Kernel\",round(accuracy_score(y_test1, y_pred_svm_l1), 4) ,round(precision_score(y_test1, y_pred_svm_l1, average = 'macro'), 4) ,round(recall_score(y_test1, y_pred_svm_l1, average = 'macro'), 4) ,round(f1_score(y_test1, y_pred_svm_l1, average = 'macro'), 4) ])\n",
        "t1.add_row([\"Random Frest Classifier\",round(accuracy_score(y_test1, y_pred_rf1), 4) ,round(precision_score(y_test1, y_pred_rf1, average = 'macro'), 4) ,round(recall_score(y_test1, y_pred_rf1, average = 'macro'), 4) ,round(f1_score(y_test1, y_pred_rf1, average = 'macro'), 4) ])\n",
        "t1.add_row([\"GaussianNB\",round(accuracy_score(y_test1, y_pred_gnb1), 4) ,round(precision_score(y_test1, y_pred_gnb1, average = 'macro'), 4) ,round(recall_score(y_test1, y_pred_gnb1, average = 'macro'), 4) ,round(f1_score(y_test1, y_pred_gnb1, average = 'macro'), 4) ])\n",
        "\n",
        "\n",
        "print(\"\\n\\nUsing selection feature\")\n",
        "print(t1)\n",
        "\n",
        "\n",
        "\n",
        "\n",
        "\n"
      ],
      "metadata": {
        "id": "sOsg77IBzEyo",
        "colab": {
          "base_uri": "https://localhost:8080/"
        },
        "outputId": "1a5865a1-c3fd-4152-bd1e-927e4b660195"
      },
      "execution_count": null,
      "outputs": [
        {
          "output_type": "stream",
          "name": "stdout",
          "text": [
            "Without using selection feature\n",
            "+-------------------------+----------+-----------+--------+-------------+\n",
            "|        Algorithm        | Accuracy | Precision | Recall | F1 measures |\n",
            "+-------------------------+----------+-----------+--------+-------------+\n",
            "|    SVM Linear Kernel    |  0.9759  |   0.976   | 0.9771 |    0.9765   |\n",
            "| Random Frest Classifier |  0.9741  |   0.9747  | 0.9746 |    0.9743   |\n",
            "|        GaussianNB       |   0.85   |   0.8755  | 0.8525 |    0.8518   |\n",
            "+-------------------------+----------+-----------+--------+-------------+\n"
          ]
        },
        {
          "output_type": "stream",
          "name": "stderr",
          "text": [
            "/usr/local/lib/python3.9/dist-packages/sklearn/feature_selection/_univariate_selection.py:112: UserWarning: Features [ 0 32 39] are constant.\n",
            "  warnings.warn(\"Features %s are constant.\" % constant_features_idx, UserWarning)\n",
            "/usr/local/lib/python3.9/dist-packages/sklearn/feature_selection/_univariate_selection.py:113: RuntimeWarning: invalid value encountered in true_divide\n",
            "  f = msb / msw\n"
          ]
        },
        {
          "output_type": "stream",
          "name": "stdout",
          "text": [
            "\n",
            "\n",
            "Using selection feature\n",
            "+-------------------------+----------+-----------+--------+-------------+\n",
            "|        Algorithm        | Accuracy | Precision | Recall | F1 measures |\n",
            "+-------------------------+----------+-----------+--------+-------------+\n",
            "|    SVM Linear Kernel    |  0.9778  |   0.978   | 0.9787 |    0.9783   |\n",
            "| Random Frest Classifier |  0.9574  |   0.9586  | 0.9593 |    0.958    |\n",
            "|        GaussianNB       |  0.8667  |   0.8782  | 0.8693 |    0.8666   |\n",
            "+-------------------------+----------+-----------+--------+-------------+\n"
          ]
        }
      ]
    },
    {
      "cell_type": "markdown",
      "source": [
        "#Task 2. \n",
        "For given bank dataset (bank.csv) having the following attributes :\n",
        "1.\t**age** (numeric)\n",
        "2.\t**job** : type of job (categorical: 'admin.','blue-collar','entrepreneur','housemaid','management','retired','self-employed','services','student','technician','unemployed','unknown')\n",
        "3.\t**marital** : marital status (categorical: 'divorced','married','single','unknown'; note: 'divorced' means divorced or widowed)\n",
        "4.\t**education** (categorical: 'basic.4y','basic.6y','basic.9y','high.school','illiterate','professional.course','university.degree','unknown')\n",
        "5.\t**default**: has credit in default? (categorical: 'no','yes','unknown')\n",
        "6.\t**housing**: has housing loan? (categorical: 'no','yes','unknown')\n",
        "7.\t**loan**: has personal loan? (categorical: 'no','yes','unknown')\n",
        "8.\t**contact**: contact communication type (categorical: 'cellular','telephone')\n",
        "9.\t**month**: last contact month of year (categorical: 'jan', 'feb', 'mar', ..., 'nov', 'dec')\n",
        "10.\t**day_of_week**: last contact day of the week (categorical: 'mon','tue','wed','thu','fri')\n",
        "11.\t**duration**: last contact duration, in seconds (numeric). Important note: this attribute highly affects the output target (e.g., if duration=0 then y='no'). Yet, the duration is not known before a call is performed. Also, after the end of the call y is obviously known. Thus, this input should only be included for benchmark purposes and should be discarded if the intention is to have a realistic predictive model.\n",
        "12.\t**campaign**: number of contacts performed during this campaign and for this client (numeric, includes last contact)\n",
        "13.\t**pdays**: number of days that passed by after the client was last contacted from a previous campaign (numeric; 999 means client was not previously contacted)\n",
        "14.\t**previous**: number of contacts performed before this campaign and for this client (numeric)\n",
        "15.\t**poutcome**: outcome of the previous marketing campaign (categorical: 'failure','nonexistent','success')\n",
        "Output variable (desired target):\n",
        "16.\t**y**. has the client subscribed a term deposit? (binary: 'yes','no')\n",
        "\n"
      ],
      "metadata": {
        "id": "b52OPWPD2afi"
      }
    },
    {
      "cell_type": "markdown",
      "source": [
        "#3.1. Apply StandardScaler() function to columns that contains numerical data ('age', 'balance', 'day', 'campaign', 'pdays', 'previous')"
      ],
      "metadata": {
        "id": "q89LEvT7dqaZ"
      }
    },
    {
      "cell_type": "code",
      "source": [
        "#code\n",
        "data3 = pd.read_csv('Data_lab6/bank.csv')\n",
        "data_new = data3.copy()\n",
        "# các cột cần xử lý\n",
        "cols = ['age', 'balance', 'day', 'campaign', 'pdays', 'previous']\n",
        "# tạo đối tượng StandardScaler\n",
        "scaler = StandardScaler()\n",
        "# xử lý dữ liệu\n",
        "data_new[cols] = scaler.fit_transform(data_new[cols])\n",
        "# in ra dữ liệu chưa xử lý\n",
        "print(\"Dữ liệu trước khi áp dụng Standard Scaler\\n\")\n",
        "print(data3)\n",
        "# in ra dữ liệu đã xử lý\n",
        "print(\"\\n\\n\\n\")\n",
        "print(\"Dữ liệu sau khi áp dụng Standard Scaler để xử lý các cột 'age', 'balance', 'day', 'campaign', 'pdays', 'previous'\\n\")\n",
        "print(data_new)"
      ],
      "metadata": {
        "id": "8vx3mfIidu4P",
        "colab": {
          "base_uri": "https://localhost:8080/"
        },
        "outputId": "63c21708-a2f1-4286-f080-f9306d9ceb1a"
      },
      "execution_count": 39,
      "outputs": [
        {
          "output_type": "stream",
          "name": "stdout",
          "text": [
            "Dữ liệu trước khi áp dụng Standard Scaler\n",
            "\n",
            "       age          job  marital  education default  balance housing loan  \\\n",
            "0       59       admin.  married  secondary      no     2343     yes   no   \n",
            "1       56       admin.  married  secondary      no       45      no   no   \n",
            "2       41   technician  married  secondary      no     1270     yes   no   \n",
            "3       55     services  married  secondary      no     2476     yes   no   \n",
            "4       54       admin.  married   tertiary      no      184      no   no   \n",
            "...    ...          ...      ...        ...     ...      ...     ...  ...   \n",
            "11157   33  blue-collar   single    primary      no        1     yes   no   \n",
            "11158   39     services  married  secondary      no      733      no   no   \n",
            "11159   32   technician   single  secondary      no       29      no   no   \n",
            "11160   43   technician  married  secondary      no        0      no  yes   \n",
            "11161   34   technician  married  secondary      no        0      no   no   \n",
            "\n",
            "        contact  day month  duration  campaign  pdays  previous poutcome  \\\n",
            "0       unknown    5   may      1042         1     -1         0  unknown   \n",
            "1       unknown    5   may      1467         1     -1         0  unknown   \n",
            "2       unknown    5   may      1389         1     -1         0  unknown   \n",
            "3       unknown    5   may       579         1     -1         0  unknown   \n",
            "4       unknown    5   may       673         2     -1         0  unknown   \n",
            "...         ...  ...   ...       ...       ...    ...       ...      ...   \n",
            "11157  cellular   20   apr       257         1     -1         0  unknown   \n",
            "11158   unknown   16   jun        83         4     -1         0  unknown   \n",
            "11159  cellular   19   aug       156         2     -1         0  unknown   \n",
            "11160  cellular    8   may         9         2    172         5  failure   \n",
            "11161  cellular    9   jul       628         1     -1         0  unknown   \n",
            "\n",
            "      deposit  \n",
            "0         yes  \n",
            "1         yes  \n",
            "2         yes  \n",
            "3         yes  \n",
            "4         yes  \n",
            "...       ...  \n",
            "11157      no  \n",
            "11158      no  \n",
            "11159      no  \n",
            "11160      no  \n",
            "11161      no  \n",
            "\n",
            "[11162 rows x 17 columns]\n",
            "\n",
            "\n",
            "\n",
            "\n",
            "Dữ liệu sau khi áp dụng Standard Scaler để xử lý các cột 'age', 'balance', 'day', 'campaign', 'pdays', 'previous'\n",
            "\n",
            "            age          job  marital  education default   balance housing  \\\n",
            "0      1.491505       admin.  married  secondary      no  0.252525     yes   \n",
            "1      1.239676       admin.  married  secondary      no -0.459974      no   \n",
            "2     -0.019470   technician  married  secondary      no -0.080160     yes   \n",
            "3      1.155733     services  married  secondary      no  0.293762     yes   \n",
            "4      1.071790       admin.  married   tertiary      no -0.416876      no   \n",
            "...         ...          ...      ...        ...     ...       ...     ...   \n",
            "11157 -0.691015  blue-collar   single    primary      no -0.473616     yes   \n",
            "11158 -0.187357     services  married  secondary      no -0.246658      no   \n",
            "11159 -0.774958   technician   single  secondary      no -0.464934      no   \n",
            "11160  0.148416   technician  married  secondary      no -0.473926      no   \n",
            "11161 -0.607072   technician  married  secondary      no -0.473926      no   \n",
            "\n",
            "      loan   contact       day month  duration  campaign     pdays  previous  \\\n",
            "0       no   unknown -1.265746   may      1042 -0.554168 -0.481184 -0.363260   \n",
            "1       no   unknown -1.265746   may      1467 -0.554168 -0.481184 -0.363260   \n",
            "2       no   unknown -1.265746   may      1389 -0.554168 -0.481184 -0.363260   \n",
            "3       no   unknown -1.265746   may       579 -0.554168 -0.481184 -0.363260   \n",
            "4       no   unknown -1.265746   may       673 -0.186785 -0.481184 -0.363260   \n",
            "...    ...       ...       ...   ...       ...       ...       ...       ...   \n",
            "11157   no  cellular  0.515650   apr       257 -0.554168 -0.481184 -0.363260   \n",
            "11158   no   unknown  0.040612   jun        83  0.547981 -0.481184 -0.363260   \n",
            "11159   no  cellular  0.396891   aug       156 -0.186785 -0.481184 -0.363260   \n",
            "11160  yes  cellular -0.909466   may         9 -0.186785  1.109571  1.818332   \n",
            "11161   no  cellular -0.790707   jul       628 -0.554168 -0.481184 -0.363260   \n",
            "\n",
            "      poutcome deposit  \n",
            "0      unknown     yes  \n",
            "1      unknown     yes  \n",
            "2      unknown     yes  \n",
            "3      unknown     yes  \n",
            "4      unknown     yes  \n",
            "...        ...     ...  \n",
            "11157  unknown      no  \n",
            "11158  unknown      no  \n",
            "11159  unknown      no  \n",
            "11160  failure      no  \n",
            "11161  unknown      no  \n",
            "\n",
            "[11162 rows x 17 columns]\n"
          ]
        }
      ]
    },
    {
      "cell_type": "markdown",
      "source": [
        "#3.2. Apply Encode Categorical Value (OneHotEncoder) to transfrom categorical data to numerical data ('job', 'marital', 'education', 'default', 'housing', 'loan', 'contact', 'month', 'poutcome')"
      ],
      "metadata": {
        "id": "r7acR0TxdvY8"
      }
    },
    {
      "cell_type": "code",
      "source": [
        "#code\n",
        "# dùng One Hot Encoder xử lý các cột dữ liệu còn lại trên data frame data_new ở bài 3.1\n",
        "# các cột dữ liệu cần chuyển đổi\n",
        "cols2 = ['job', 'marital', 'education', 'default', 'housing', 'loan', 'contact', 'month', 'poutcome']\n",
        "\n",
        "#tạo đối dượng One Hot Encoder\n",
        "encoder = OneHotEncoder()\n",
        "\n",
        "# chuyển đổi dữ liệu\n",
        "encoded = encoder.fit_transform(data_new[cols2])\n",
        "\n",
        "#tạo data frame từ dữ liệu chuyển đổi\n",
        "feature_names = []\n",
        "for col in encoder.categories_:\n",
        "  feature_names += col.tolist()\n",
        "encoded_df = pd.DataFrame(encoded.toarray(), columns=feature_names)\n",
        "# thay thế dữ liệu đã chuyên đổi vào data frame ban đầu\n",
        "data_new.drop(columns=cols2, inplace=True)\n",
        "data_new = pd.concat([data_new, encoded_df], axis=1)\n",
        "\n",
        "# in ra dữ liệu đã xử lý\n",
        "print(\"Dữ liệu sau khi áp dụng OneHotEncoder để xử lý các cột dữ liệu phân loại ('job', 'marital', 'education', 'default', 'housing', 'loan', 'contact', 'month', 'poutcome') thành dữ liệu số\")\n",
        "print(data_new)"
      ],
      "metadata": {
        "id": "egtgBmAtd0um",
        "colab": {
          "base_uri": "https://localhost:8080/"
        },
        "outputId": "fba5233f-90d5-4ce8-c6af-1f3cd1e6a64d"
      },
      "execution_count": 40,
      "outputs": [
        {
          "output_type": "stream",
          "name": "stdout",
          "text": [
            "Dữ liệu sau khi áp dụng OneHotEncoder để xử lý các cột dữ liệu phân loại ('job', 'marital', 'education', 'default', 'housing', 'loan', 'contact', 'month', 'poutcome') thành dữ liệu số\n",
            "            age   balance       day  duration  campaign     pdays  previous  \\\n",
            "0      1.491505  0.252525 -1.265746      1042 -0.554168 -0.481184 -0.363260   \n",
            "1      1.239676 -0.459974 -1.265746      1467 -0.554168 -0.481184 -0.363260   \n",
            "2     -0.019470 -0.080160 -1.265746      1389 -0.554168 -0.481184 -0.363260   \n",
            "3      1.155733  0.293762 -1.265746       579 -0.554168 -0.481184 -0.363260   \n",
            "4      1.071790 -0.416876 -1.265746       673 -0.186785 -0.481184 -0.363260   \n",
            "...         ...       ...       ...       ...       ...       ...       ...   \n",
            "11157 -0.691015 -0.473616  0.515650       257 -0.554168 -0.481184 -0.363260   \n",
            "11158 -0.187357 -0.246658  0.040612        83  0.547981 -0.481184 -0.363260   \n",
            "11159 -0.774958 -0.464934  0.396891       156 -0.186785 -0.481184 -0.363260   \n",
            "11160  0.148416 -0.473926 -0.909466         9 -0.186785  1.109571  1.818332   \n",
            "11161 -0.607072 -0.473926 -0.790707       628 -0.554168 -0.481184 -0.363260   \n",
            "\n",
            "      deposit  admin.  blue-collar  ...  jun  mar  may  nov  oct  sep  \\\n",
            "0         yes     1.0          0.0  ...  0.0  0.0  1.0  0.0  0.0  0.0   \n",
            "1         yes     1.0          0.0  ...  0.0  0.0  1.0  0.0  0.0  0.0   \n",
            "2         yes     0.0          0.0  ...  0.0  0.0  1.0  0.0  0.0  0.0   \n",
            "3         yes     0.0          0.0  ...  0.0  0.0  1.0  0.0  0.0  0.0   \n",
            "4         yes     1.0          0.0  ...  0.0  0.0  1.0  0.0  0.0  0.0   \n",
            "...       ...     ...          ...  ...  ...  ...  ...  ...  ...  ...   \n",
            "11157      no     0.0          1.0  ...  0.0  0.0  0.0  0.0  0.0  0.0   \n",
            "11158      no     0.0          0.0  ...  1.0  0.0  0.0  0.0  0.0  0.0   \n",
            "11159      no     0.0          0.0  ...  0.0  0.0  0.0  0.0  0.0  0.0   \n",
            "11160      no     0.0          0.0  ...  0.0  0.0  1.0  0.0  0.0  0.0   \n",
            "11161      no     0.0          0.0  ...  0.0  0.0  0.0  0.0  0.0  0.0   \n",
            "\n",
            "       failure  other  success  unknown  \n",
            "0          0.0    0.0      0.0      1.0  \n",
            "1          0.0    0.0      0.0      1.0  \n",
            "2          0.0    0.0      0.0      1.0  \n",
            "3          0.0    0.0      0.0      1.0  \n",
            "4          0.0    0.0      0.0      1.0  \n",
            "...        ...    ...      ...      ...  \n",
            "11157      0.0    0.0      0.0      1.0  \n",
            "11158      0.0    0.0      0.0      1.0  \n",
            "11159      0.0    0.0      0.0      1.0  \n",
            "11160      1.0    0.0      0.0      0.0  \n",
            "11161      0.0    0.0      0.0      1.0  \n",
            "\n",
            "[11162 rows x 52 columns]\n"
          ]
        }
      ]
    },
    {
      "cell_type": "markdown",
      "source": [
        "#3.3. Apply **Decision tree, Random forest, kNN, NaïveBayes** to preproceed dataset in the previous steps. Then compare the obtained results using **accuracy, precision, recall, f1** measures."
      ],
      "metadata": {
        "id": "K2Si6d69d1nh"
      }
    },
    {
      "cell_type": "code",
      "source": [
        "#code\n",
        "# sử dụng tập dữ liệu mới đã được xử lý ở 3.1 và 3.2\n",
        "X33 = data_new.drop('deposit', axis= 1)\n",
        "y33 = data_new['deposit']\n",
        "X_train33, X_test33, y_train33, y_test33 = train_test_split(X33, y33, test_size= 0.3, random_state= 61)\n",
        "\n",
        "\n",
        "# Decision tree\n",
        "dt33 = DecisionTreeClassifier()\n",
        "dt33.fit(X_train33, y_train33)\n",
        "y_pred_dt33 = dt33.predict(X_test33)\n",
        "\n",
        "# Random forest\n",
        "rf33 = RandomForestClassifier()\n",
        "rf33.fit(X_train33, y_train33)\n",
        "y_pred_rf33 = rf33.predict(X_test33)\n",
        "\n",
        "# kNN\n",
        "knn33 = KNeighborsClassifier()\n",
        "knn33.fit(X_train33, y_train33)\n",
        "y_pred_knn33 = knn33.predict(X_test33)\n",
        "\n",
        "# Naive Bayes\n",
        "# GaussianNB (liên tục)\n",
        "gnb33 = GaussianNB()\n",
        "gnb33.fit(X_train33, y_train33)\n",
        "y_pred_gnb33 = gnb33.predict(X_test33)\n",
        "\n",
        "print('\\n\\n\\nKết quả khi sử dụng tập dữ liệu đã qua xử lý ở 3.1 và 3.2\\n')\n",
        "t3 = PrettyTable([\"Algorithm\", \"Accuracy\", \"Precision\", \"Recall\", \"F1 measures\"])\n",
        "t3.add_row([\"Decision Tree\",round(accuracy_score(y_test33, y_pred_dt33), 4) ,round(precision_score(y_test33, y_pred_dt33, average = 'macro'), 4) ,round(recall_score(y_test33, y_pred_dt33, average = 'macro'), 4) ,round(f1_score(y_test33, y_pred_dt33, average = 'macro'), 4) ])\n",
        "t3.add_row([\"KNN\",round(accuracy_score(y_test33, y_pred_knn33), 4) ,round(precision_score(y_test33, y_pred_knn33, average = 'macro'), 4) ,round(recall_score(y_test33, y_pred_knn33, average = 'macro'), 4) ,round(f1_score(y_test33, y_pred_knn33, average = 'macro'), 4) ])\n",
        "t3.add_row([\"Random Forest Classifier\",round(accuracy_score(y_test33, y_pred_rf33), 4) ,round(precision_score(y_test33, y_pred_rf33, average = 'macro'), 4) ,round(recall_score(y_test33, y_pred_rf33, average = 'macro'), 4) ,round(f1_score(y_test33, y_pred_rf33, average = 'macro'), 4) ])\n",
        "t3.add_row([\"GaussianNB\",round(accuracy_score(y_test33, y_pred_gnb33), 4) ,round(precision_score(y_test33, y_pred_gnb33, average = 'macro'), 4) ,round(recall_score(y_test33, y_pred_gnb33, average = 'macro'), 4) ,round(f1_score(y_test33, y_pred_gnb33, average = 'macro'), 4) ])\n",
        "print(t3)"
      ],
      "metadata": {
        "id": "Ouil-cf_d8jW",
        "colab": {
          "base_uri": "https://localhost:8080/"
        },
        "outputId": "835d48e2-d362-4661-bdfb-972174e62240"
      },
      "execution_count": 44,
      "outputs": [
        {
          "output_type": "stream",
          "name": "stdout",
          "text": [
            "\n",
            "\n",
            "\n",
            "Kết quả khi sử dụng tập dữ liệu đã qua xử lý ở 3.1 và 3.2\n",
            "\n",
            "+--------------------------+----------+-----------+--------+-------------+\n",
            "|        Algorithm         | Accuracy | Precision | Recall | F1 measures |\n",
            "+--------------------------+----------+-----------+--------+-------------+\n",
            "|      Decision Tree       |  0.7928  |   0.7926  | 0.7923 |    0.7924   |\n",
            "|           KNN            |  0.7647  |   0.7653  | 0.7635 |    0.7638   |\n",
            "| Random Forest Classifier |  0.8573  |   0.8573  | 0.8577 |    0.8572   |\n",
            "|        GaussianNB        |  0.716   |   0.7327  | 0.7111 |    0.7076   |\n",
            "+--------------------------+----------+-----------+--------+-------------+\n"
          ]
        }
      ]
    },
    {
      "cell_type": "markdown",
      "source": [
        "#3.4. Using selection feature to above dataset, then compare the classification results with those in Task 2.3. "
      ],
      "metadata": {
        "id": "SweVRB4meApP"
      }
    },
    {
      "cell_type": "code",
      "source": [
        "#code\n",
        "#Dùng Random Forest Classifier để xác định độ quan trọng của từng feature\n",
        "\n",
        "clf=RandomForestClassifier(n_estimators=100)\n",
        "clf.fit(X33,y33)\n",
        "\n",
        "# mức độ quan trọng các feature theo giá trị giảm dần\n",
        "feature_names = X33.columns.tolist()\n",
        "feature_imp = pd.Series(clf.feature_importances_,index=feature_names).sort_values(ascending=False)\n",
        "\n",
        "fig = plt.figure()\n",
        "sns.barplot(x=feature_imp, y=feature_imp.index)\n",
        "plt.xlabel('Feature Importance Score')\n",
        "plt.ylabel('Features')\n",
        "plt.title(\"Visualizing Important Features\")\n",
        "plt.legend()\n",
        "\n",
        "fig.set_size_inches(12, 10)\n",
        "print('\\nĐồ thị hiển thị mức độ quan trọng của các thuộc tính\\n')\n",
        "plt.show()\n",
        "\n",
        "# Chọn các thuộc tính quan trọng và tạo tập dữ liệu mới\n",
        "features = feature_imp.index[0:7].values\n",
        "X_new = X33[feature_imp.index[0:7]]\n",
        "print('\\nTheo biểu đồ ta chọn ra được 7 thuộc tính có giá trị quan trọng cao nhất và tạo thành tập dữ liệu mới')\n",
        "print(X_new)\n",
        "\n",
        "\n",
        "# Train\n",
        "X_train33, X_test33, y_train33, y_test33 = train_test_split(X_new, y33, test_size= 0.3, random_state= 61)\n",
        "\n",
        "\n",
        "# Decision tree\n",
        "dt33 = DecisionTreeClassifier()\n",
        "dt33.fit(X_train33, y_train33)\n",
        "y_pred_dt33 = dt33.predict(X_test33)\n",
        "\n",
        "# Random forest\n",
        "rf33 = RandomForestClassifier()\n",
        "rf33.fit(X_train33, y_train33)\n",
        "y_pred_rf33 = rf33.predict(X_test33)\n",
        "\n",
        "# kNN\n",
        "knn33 = KNeighborsClassifier()\n",
        "knn33.fit(X_train33, y_train33)\n",
        "y_pred_knn33 = knn33.predict(X_test33)\n",
        "\n",
        "# Naive Bayes\n",
        "# GaussianNB (liên tục)\n",
        "gnb33 = GaussianNB()\n",
        "gnb33.fit(X_train33, y_train33)\n",
        "y_pred_gnb33 = gnb33.predict(X_test33)\n",
        "\n",
        "print('\\n\\n\\nKết quả khi sử dụng tập dữ liệu đã qua xử lý ở 3.1 và 3.2 và chọn ra 7 thuộc tính có độ quan trọng cao nhất để train \\n')\n",
        "t3 = PrettyTable([\"Algorithm\", \"Accuracy\", \"Precision\", \"Recall\", \"F1 measures\"])\n",
        "t3.add_row([\"Decision Tree\",round(accuracy_score(y_test33, y_pred_dt33), 4) ,round(precision_score(y_test33, y_pred_dt33, average = 'macro'), 4) ,round(recall_score(y_test33, y_pred_dt33, average = 'macro'), 4) ,round(f1_score(y_test33, y_pred_dt33, average = 'macro'), 4) ])\n",
        "t3.add_row([\"KNN\",round(accuracy_score(y_test33, y_pred_knn33), 4) ,round(precision_score(y_test33, y_pred_knn33, average = 'macro'), 4) ,round(recall_score(y_test33, y_pred_knn33, average = 'macro'), 4) ,round(f1_score(y_test33, y_pred_knn33, average = 'macro'), 4) ])\n",
        "t3.add_row([\"Random Forest Classifier\",round(accuracy_score(y_test33, y_pred_rf33), 4) ,round(precision_score(y_test33, y_pred_rf33, average = 'macro'), 4) ,round(recall_score(y_test33, y_pred_rf33, average = 'macro'), 4) ,round(f1_score(y_test33, y_pred_rf33, average = 'macro'), 4) ])\n",
        "t3.add_row([\"GaussianNB\",round(accuracy_score(y_test33, y_pred_gnb33), 4) ,round(precision_score(y_test33, y_pred_gnb33, average = 'macro'), 4) ,round(recall_score(y_test33, y_pred_gnb33, average = 'macro'), 4) ,round(f1_score(y_test33, y_pred_gnb33, average = 'macro'), 4) ])\n",
        "print(t3)\n",
        "\n",
        "\n",
        "print('Ta có thể thấy được kết quả hai bài là khá tương đồng, kết quả ở 3.3 tốt hơn nhưng sau khi áp dụng chọn ra 7 thuộc tính quan trọng nhất thì ở bài 3.4 tốc độ train nhanh hơn và kết quả cho ra khá tốt')\n"
      ],
      "metadata": {
        "id": "seFBhqCSeC7C",
        "colab": {
          "base_uri": "https://localhost:8080/",
          "height": 1000
        },
        "outputId": "e4862439-b297-45c7-8582-cb40e06e01b8"
      },
      "execution_count": 64,
      "outputs": [
        {
          "output_type": "stream",
          "name": "stderr",
          "text": [
            "WARNING:matplotlib.legend:No artists with labels found to put in legend.  Note that artists whose label start with an underscore are ignored when legend() is called with no argument.\n"
          ]
        },
        {
          "output_type": "stream",
          "name": "stdout",
          "text": [
            "\n",
            "Đồ thị hiển thị mức độ quan trọng của các thuộc tính\n",
            "\n"
          ]
        },
        {
          "output_type": "display_data",
          "data": {
            "text/plain": [
              "<Figure size 864x720 with 1 Axes>"
            ],
            "image/png": "[encoded data removed]"
          },
          "metadata": {
            "needs_background": "light"
          }
        },
        {
          "output_type": "stream",
          "name": "stdout",
          "text": [
            "\n",
            "Theo biểu đồ ta chọn ra được 7 thuộc tính có giá trị quan trọng cao nhất và tạo thành tập dữ liệu mới\n",
            "       duration   balance       age       day     pdays  campaign  success\n",
            "0          1042  0.252525  1.491505 -1.265746 -0.481184 -0.554168      0.0\n",
            "1          1467 -0.459974  1.239676 -1.265746 -0.481184 -0.554168      0.0\n",
            "2          1389 -0.080160 -0.019470 -1.265746 -0.481184 -0.554168      0.0\n",
            "3           579  0.293762  1.155733 -1.265746 -0.481184 -0.554168      0.0\n",
            "4           673 -0.416876  1.071790 -1.265746 -0.481184 -0.186785      0.0\n",
            "...         ...       ...       ...       ...       ...       ...      ...\n",
            "11157       257 -0.473616 -0.691015  0.515650 -0.481184 -0.554168      0.0\n",
            "11158        83 -0.246658 -0.187357  0.040612 -0.481184  0.547981      0.0\n",
            "11159       156 -0.464934 -0.774958  0.396891 -0.481184 -0.186785      0.0\n",
            "11160         9 -0.473926  0.148416 -0.909466  1.109571 -0.186785      0.0\n",
            "11161       628 -0.473926 -0.607072 -0.790707 -0.481184 -0.554168      0.0\n",
            "\n",
            "[11162 rows x 7 columns]\n",
            "\n",
            "\n",
            "\n",
            "Kết quả khi sử dụng tập dữ liệu đã qua xử lý ở 3.1 và 3.2 và chọn ra 7 thuộc tính có độ quan trọng cao nhất để train \n",
            "\n",
            "+--------------------------+----------+-----------+--------+-------------+\n",
            "|        Algorithm         | Accuracy | Precision | Recall | F1 measures |\n",
            "+--------------------------+----------+-----------+--------+-------------+\n",
            "|      Decision Tree       |  0.7196  |   0.7194  | 0.7189 |    0.719    |\n",
            "|           KNN            |  0.739   |   0.7429  | 0.7365 |    0.7364   |\n",
            "| Random Forest Classifier |  0.8116  |   0.8116  | 0.811  |    0.8112   |\n",
            "|        GaussianNB        |  0.7208  |   0.7444  | 0.7152 |    0.7103   |\n",
            "+--------------------------+----------+-----------+--------+-------------+\n",
            "Ta có thể thấy được kết quả hai bài là khá tương đồng, kết quả ở 3.3 tốt hơn nhưng sau khi áp dụng chọn ra 7 thuộc tính quan trọng nhất thì ở bài 3.4 tốc độ train nhanh hơn và kết quả cho ra khá tốt\n"
          ]
        }
      ]
    },
    {
      "cell_type": "markdown",
      "source": [
        "#Task 4. \n",
        "For a given dataset in the Lab #5 (**credit card dataset**), perform feature selection and thencompare the performance of selected classification algorithms (Decision Tree, kNN, Logistic Regression, SVM, Random Forest and NaiveBayes) based on accuracy, precision, recall, f1 measures.\n"
      ],
      "metadata": {
        "id": "Z5pp7_h-aP2u"
      }
    },
    {
      "cell_type": "code",
      "source": [
        "# code\n",
        "data4 = pd.read_csv('Data_lab5/creditcard.csv')\n",
        "X4 = data4.drop('Class', axis = 1)\n",
        "y4 = data4['Class']\n",
        "\n",
        "X_train4, X_test4, y_train4, y_test4 = train_test_split(X4, y4, train_size= 0.007, test_size= 0.003, random_state= 41)\n",
        "\n",
        "# Decision Tree \n",
        "dt4 = DecisionTreeClassifier()\n",
        "dt4.fit(X_train4, y_train4)\n",
        "y_pred_dt4 = dt4.predict(X_test4)\n",
        "\n",
        "# kNN \n",
        "knn4 = KNeighborsClassifier()\n",
        "knn4.fit(X_train4, y_train4)\n",
        "y_pred_knn4 = knn4.predict(X_test4)\n",
        "\n",
        "# Logistic Regression \n",
        "lr4 = LogisticRegression();\n",
        "lr4.fit(X_train4, y_train4) \n",
        "y_pred_lr4 = lr4.predict(X_test4)\n",
        "\n",
        "# SVM \n",
        "svm_l4 = svm.SVC(kernel='linear')\n",
        "svm_l4.fit(X_train4, y_train4)\n",
        "y_pred_svm_l4 = svm_l4.predict(X_test4)\n",
        "\n",
        "# Random Forest \n",
        "rf4 = RandomForestClassifier()\n",
        "rf4.fit(X_train4, y_train4)\n",
        "y_pred_rf4 = rf4.predict(X_test4) \n",
        "\n",
        "# NaiveBayes\n",
        "# GaussianNB\n",
        "gnb4 = GaussianNB()\n",
        "gnb4.fit(X_train4, y_train4)\n",
        "y_pred_gnb4 = gnb4.predict(X_test4)\n",
        "\n",
        "print('\\n\\n\\nKết quả khi chưa chọn các thuộc tính\\n')\n",
        "t4 = PrettyTable([\"Algorithm\", \"Accuracy\", \"Precision\", \"Recall\", \"F1 measures\"])\n",
        "t4.add_row([\"Decision Tree\",round(accuracy_score(y_test4, y_pred_dt4), 4) ,round(precision_score(y_test4, y_pred_dt4, average = 'macro'), 4) ,round(recall_score(y_test4, y_pred_dt4, average = 'macro'), 4) ,round(f1_score(y_test4, y_pred_dt4, average = 'macro'), 4) ])\n",
        "t4.add_row([\"KNN\",round(accuracy_score(y_test4, y_pred_knn4), 4) ,round(precision_score(y_test4, y_pred_knn4, average = 'macro'), 4) ,round(recall_score(y_test4, y_pred_knn4, average = 'macro'), 4) ,round(f1_score(y_test4, y_pred_knn4, average = 'macro'), 4) ])\n",
        "t4.add_row([\"Random Forest Classifier\",round(accuracy_score(y_test4, y_pred_rf4), 4) ,round(precision_score(y_test4, y_pred_rf4, average = 'macro'), 4) ,round(recall_score(y_test4, y_pred_rf4, average = 'macro'), 4) ,round(f1_score(y_test4, y_pred_rf4, average = 'macro'), 4) ])\n",
        "t4.add_row([\"NaiveBayes GaussianNB\",round(accuracy_score(y_test4, y_pred_gnb4), 4) ,round(precision_score(y_test4, y_pred_gnb4, average = 'macro'), 4) ,round(recall_score(y_test4, y_pred_gnb4, average = 'macro'), 4) ,round(f1_score(y_test4, y_pred_gnb4, average = 'macro'), 4) ])\n",
        "t4.add_row([\"SVM\",round(accuracy_score(y_test4, y_pred_svm_l4), 4) ,round(precision_score(y_test4, y_pred_svm_l4, average = 'macro'), 4) ,round(recall_score(y_test4, y_pred_svm_l4, average = 'macro'), 4) ,round(f1_score(y_test4, y_pred_svm_l4, average = 'macro'), 4) ])\n",
        "t4.add_row([\"Logistic Regression\",round(accuracy_score(y_test4, y_pred_lr4), 4) ,round(precision_score(y_test4, y_pred_lr4, average = 'macro'), 4) ,round(recall_score(y_test4, y_pred_lr4, average = 'macro'), 4) ,round(f1_score(y_test4, y_pred_lr4, average = 'macro'), 4) ])\n",
        "\n",
        "\n",
        "\n",
        "# mức độ quan trọng các feature theo giá trị giảm dần\n",
        "feature_names = X4.columns.tolist()\n",
        "feature_imp = pd.Series(rf4.feature_importances_,index=feature_names).sort_values(ascending=False)\n",
        "\n",
        "fig = plt.figure()\n",
        "sns.barplot(x=feature_imp, y=feature_imp.index)\n",
        "plt.xlabel('Feature Importance Score')\n",
        "plt.ylabel('Features')\n",
        "plt.title(\"Visualizing Important Features\")\n",
        "plt.legend()\n",
        "\n",
        "fig.set_size_inches(12, 10)\n",
        "print('\\nĐồ thị hiển thị mức độ quan trọng của các thuộc tính\\n')\n",
        "plt.show()\n",
        "\n",
        "# Chọn các thuộc tính quan trọng và tạo tập dữ liệu mới\n",
        "features = feature_imp.index[0:6].values\n",
        "X_new = X4[feature_imp.index[0:6]]\n",
        "print('\\nTheo biểu đồ ta chọn ra được 6 thuộc tính có giá trị quan trọng cao nhất và tạo thành tập dữ liệu mới')\n",
        "print(X_new)\n",
        "\n",
        "\n",
        "\n",
        "# Sau khi có tập X mới ta train lại\n",
        "\n",
        "X_train4, X_test4, y_train4, y_test4 = train_test_split(X_new, y4, train_size= 0.007, test_size= 0.003, random_state= 41)\n",
        "\n",
        "# Decision Tree \n",
        "dt4 = DecisionTreeClassifier()\n",
        "dt4.fit(X_train4, y_train4)\n",
        "y_pred_dt4 = dt4.predict(X_test4)\n",
        "\n",
        "# kNN \n",
        "knn4 = KNeighborsClassifier()\n",
        "knn4.fit(X_train4, y_train4)\n",
        "y_pred_knn4 = knn4.predict(X_test4)\n",
        "\n",
        "# Logistic Regression \n",
        "lr4 = LogisticRegression();\n",
        "lr4.fit(X_train4, y_train4) \n",
        "y_pred_lr4 = lr4.predict(X_test4)\n",
        "\n",
        "# SVM \n",
        "svm_l4 = svm.SVC(kernel='linear')\n",
        "svm_l4.fit(X_train4, y_train4)\n",
        "y_pred_svm_l4 = svm_l4.predict(X_test4)\n",
        "\n",
        "# Random Forest \n",
        "rf4 = RandomForestClassifier()\n",
        "rf4.fit(X_train4, y_train4)\n",
        "y_pred_rf4 = rf4.predict(X_test4) \n",
        "\n",
        "# NaiveBayes\n",
        "# GaussianNB\n",
        "gnb4 = GaussianNB()\n",
        "gnb4.fit(X_train4, y_train4)\n",
        "y_pred_gnb4 = gnb4.predict(X_test4)\n",
        "\n",
        "print('\\n\\n\\nKết quả khi chưa chọn các thuộc tính\\n')\n",
        "t41 = PrettyTable([\"Algorithm\", \"Accuracy\", \"Precision\", \"Recall\", \"F1 measures\"])\n",
        "t41.add_row([\"Decision Tree\",round(accuracy_score(y_test4, y_pred_dt4), 4) ,round(precision_score(y_test4, y_pred_dt4, average = 'macro'), 4) ,round(recall_score(y_test4, y_pred_dt4, average = 'macro'), 4) ,round(f1_score(y_test4, y_pred_dt4, average = 'macro'), 4) ])\n",
        "t41.add_row([\"KNN\",round(accuracy_score(y_test4, y_pred_knn4), 4) ,round(precision_score(y_test4, y_pred_knn4, average = 'macro'), 4) ,round(recall_score(y_test4, y_pred_knn4, average = 'macro'), 4) ,round(f1_score(y_test4, y_pred_knn4, average = 'macro'), 4) ])\n",
        "t41.add_row([\"Random Forest Classifier\",round(accuracy_score(y_test4, y_pred_rf4), 4) ,round(precision_score(y_test4, y_pred_rf4, average = 'macro'), 4) ,round(recall_score(y_test4, y_pred_rf4, average = 'macro'), 4) ,round(f1_score(y_test4, y_pred_rf4, average = 'macro'), 4) ])\n",
        "t41.add_row([\"NaiveBayes GaussianNB\",round(accuracy_score(y_test4, y_pred_gnb4), 4) ,round(precision_score(y_test4, y_pred_gnb4, average = 'macro'), 4) ,round(recall_score(y_test4, y_pred_gnb4, average = 'macro'), 4) ,round(f1_score(y_test4, y_pred_gnb4, average = 'macro'), 4) ])\n",
        "t41.add_row([\"SVM\",round(accuracy_score(y_test4, y_pred_svm_l4), 4) ,round(precision_score(y_test4, y_pred_svm_l4, average = 'macro'), 4) ,round(recall_score(y_test4, y_pred_svm_l4, average = 'macro'), 4) ,round(f1_score(y_test4, y_pred_svm_l4, average = 'macro'), 4) ])\n",
        "t41.add_row([\"Logistic Regression\",round(accuracy_score(y_test4, y_pred_lr4), 4) ,round(precision_score(y_test4, y_pred_lr4, average = 'macro'), 4) ,round(recall_score(y_test4, y_pred_lr4, average = 'macro'), 4) ,round(f1_score(y_test4, y_pred_lr4, average = 'macro'), 4) ])\n",
        "\n",
        "print('\\nKết quả khi chưa chọn các thuộc tính quan trọng nhất\\n')\n",
        "print(t4)\n",
        "print('\\n\\nKết quả sau khi dựa vào đồ thị để chọn ra 6 thuộc tính quan trọng nhất\\n')\n",
        "print(t41)\n"
      ],
      "metadata": {
        "id": "Rw_-8FIf2KxW",
        "colab": {
          "base_uri": "https://localhost:8080/",
          "height": 1000
        },
        "outputId": "dc38d0e6-bdf2-4ac0-cac8-9c2a99e9cc8d"
      },
      "execution_count": 73,
      "outputs": [
        {
          "output_type": "stream",
          "name": "stderr",
          "text": [
            "/usr/local/lib/python3.9/dist-packages/sklearn/linear_model/_logistic.py:458: ConvergenceWarning: lbfgs failed to converge (status=1):\n",
            "STOP: TOTAL NO. of ITERATIONS REACHED LIMIT.\n",
            "\n",
            "Increase the number of iterations (max_iter) or scale the data as shown in:\n",
            "    https://scikit-learn.org/stable/modules/preprocessing.html\n",
            "Please also refer to the documentation for alternative solver options:\n",
            "    https://scikit-learn.org/stable/modules/linear_model.html#logistic-regression\n",
            "  n_iter_i = _check_optimize_result(\n",
            "/usr/local/lib/python3.9/dist-packages/sklearn/metrics/_classification.py:1344: UndefinedMetricWarning: Precision is ill-defined and being set to 0.0 in labels with no predicted samples. Use `zero_division` parameter to control this behavior.\n",
            "  _warn_prf(average, modifier, msg_start, len(result))\n",
            "WARNING:matplotlib.legend:No artists with labels found to put in legend.  Note that artists whose label start with an underscore are ignored when legend() is called with no argument.\n"
          ]
        },
        {
          "output_type": "stream",
          "name": "stdout",
          "text": [
            "\n",
            "\n",
            "\n",
            "Kết quả khi chưa chọn các thuộc tính\n",
            "\n",
            "\n",
            "Đồ thị hiển thị mức độ quan trọng của các thuộc tính\n",
            "\n"
          ]
        },
        {
          "output_type": "display_data",
          "data": {
            "text/plain": [
              "<Figure size 864x720 with 1 Axes>"
            ],
            "image/png": "[encoded data removed]"
          },
          "metadata": {
            "needs_background": "light"
          }
        },
        {
          "output_type": "stream",
          "name": "stdout",
          "text": [
            "\n",
            "Theo biểu đồ ta chọn ra được 6 thuộc tính có giá trị quan trọng cao nhất và tạo thành tập dữ liệu mới\n",
            "             V14       V17       V10       V16       V12        V4\n",
            "0      -0.311169  0.207971  0.090794 -0.470401 -0.617801  1.378155\n",
            "1      -0.143772 -0.114805 -0.166974  0.463917  1.065235  0.448154\n",
            "2      -0.165946  1.109969  0.207643 -2.890083  0.066084  0.379780\n",
            "3      -0.287924 -0.684093 -0.054952 -1.059647  0.178228 -0.863291\n",
            "4      -1.119670 -0.237033  0.753074 -0.451449  0.538196  0.403034\n",
            "...          ...       ...       ...       ...       ...       ...\n",
            "284802  4.626942  1.991691  4.356170  1.107641  2.711941 -2.066656\n",
            "284803 -0.675143 -0.025693 -0.975926 -0.711757  0.915802 -0.738589\n",
            "284804 -0.510602  0.313502 -0.484782  0.140716  0.063119 -0.557828\n",
            "284805  0.449624  0.509928 -0.399126 -0.608577 -0.962886  0.689799\n",
            "284806 -0.084316 -0.660377 -0.915427 -0.302620 -0.031513 -0.506271\n",
            "\n",
            "[284807 rows x 6 columns]\n",
            "\n",
            "\n",
            "\n",
            "Kết quả khi chưa chọn các thuộc tính\n",
            "\n",
            "\n",
            "Kết quả khi chưa chọn các thuộc tính quan trọng nhất\n",
            "\n",
            "+--------------------------+----------+-----------+--------+-------------+\n",
            "|        Algorithm         | Accuracy | Precision | Recall | F1 measures |\n",
            "+--------------------------+----------+-----------+--------+-------------+\n",
            "|      Decision Tree       |  0.9965  |    0.7    | 0.9982 |    0.7848   |\n",
            "|           KNN            |  0.9977  |   0.4988  |  0.5   |    0.4994   |\n",
            "| Random Forest Classifier |  0.9988  |   0.9994  |  0.75  |    0.833    |\n",
            "|  NaiveBayes GaussianNB   |  0.9965  |    0.7    | 0.9982 |    0.7848   |\n",
            "|           SVM            |  0.9988  |   0.9994  |  0.75  |    0.833    |\n",
            "|   Logistic Regression    |  0.9988  |   0.8333  | 0.9994 |    0.8997   |\n",
            "+--------------------------+----------+-----------+--------+-------------+\n",
            "\n",
            "\n",
            "Kết quả sau khi dựa vào đồ thị để chọn ra 6 thuộc tính quan trọng nhất\n",
            "\n",
            "+--------------------------+----------+-----------+--------+-------------+\n",
            "|        Algorithm         | Accuracy | Precision | Recall | F1 measures |\n",
            "+--------------------------+----------+-----------+--------+-------------+\n",
            "|      Decision Tree       |  0.9965  |    0.7    | 0.9982 |    0.7848   |\n",
            "|           KNN            |   1.0    |    1.0    |  1.0   |     1.0     |\n",
            "| Random Forest Classifier |  0.9988  |   0.8333  | 0.9994 |    0.8997   |\n",
            "|  NaiveBayes GaussianNB   |  0.9918  |   0.6111  | 0.9959 |    0.6798   |\n",
            "|           SVM            |  0.9988  |   0.8333  | 0.9994 |    0.8997   |\n",
            "|   Logistic Regression    |  0.9988  |   0.8333  | 0.9994 |    0.8997   |\n",
            "+--------------------------+----------+-----------+--------+-------------+\n"
          ]
        }
      ]
    },
    {
      "cell_type": "markdown",
      "source": [
        "#Finally,\n",
        "Save a copy in your Github. Remember renaming the notebook."
      ],
      "metadata": {
        "id": "Ok7RGkea_b7n"
      }
    }
  ]
}