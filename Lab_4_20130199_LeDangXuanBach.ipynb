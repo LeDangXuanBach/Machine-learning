{
  "nbformat": 4,
  "nbformat_minor": 0,
  "metadata": {
    "colab": {
      "provenance": [],
      "include_colab_link": true
    },
    "kernelspec": {
      "name": "python3",
      "display_name": "Python 3"
    },
    "language_info": {
      "name": "python"
    }
  },
  "cells": [
    {
      "cell_type": "markdown",
      "metadata": {
        "id": "view-in-github",
        "colab_type": "text"
      },
      "source": [
        "<a href=\"https://colab.research.google.com/github/LeDangXuanBach/Machine-learning/blob/main/Lab_4_20130199_LeDangXuanBach.ipynb\" target=\"_parent\"><img src=\"https://colab.research.google.com/assets/colab-badge.svg\" alt=\"Open In Colab\"/></a>"
      ]
    },
    {
      "cell_type": "markdown",
      "source": [
        "# This lab is to continous dealing with **Logistic Regression**, **kNN**, and **Decision Tree** alogirthms applied to classification tasks. \n",
        "\n",
        "*   **Deadline: 23:59, 12/03/2023**\n",
        "\n"
      ],
      "metadata": {
        "id": "LMzehe0sy5wr"
      }
    },
    {
      "cell_type": "markdown",
      "source": [
        "# ***Kết nối cơ sở dữ liệu***"
      ],
      "metadata": {
        "id": "3fXcDkAmMXU_"
      }
    },
    {
      "cell_type": "code",
      "source": [
        "#code\n",
        "from google.colab import drive\n",
        "drive.mount('/content/gdrive')\n",
        "%cd '/content/gdrive/MyDrive/ML/Data_lab4'\n"
      ],
      "metadata": {
        "colab": {
          "base_uri": "https://localhost:8080/"
        },
        "id": "-EwHKrbIMURv",
        "outputId": "2aa730ca-7c52-4fd4-cacc-27e70e2508f8"
      },
      "execution_count": 12,
      "outputs": [
        {
          "output_type": "stream",
          "name": "stdout",
          "text": [
            "Drive already mounted at /content/gdrive; to attempt to forcibly remount, call drive.mount(\"/content/gdrive\", force_remount=True).\n",
            "/content/gdrive/MyDrive/ML/Data_lab4\n"
          ]
        }
      ]
    },
    {
      "cell_type": "markdown",
      "source": [],
      "metadata": {
        "id": "cuxywkZsMWWH"
      }
    },
    {
      "cell_type": "markdown",
      "source": [
        "# Import libraries"
      ],
      "metadata": {
        "id": "H4nJmxp9zGX4"
      }
    },
    {
      "cell_type": "code",
      "execution_count": 4,
      "metadata": {
        "id": "DoVWQ8AEyc-C"
      },
      "outputs": [],
      "source": [
        "# code\n",
        "import matplotlib.pyplot as plt\n",
        "import numpy as np\n",
        "import pandas as pd\n",
        "from sklearn.linear_model import LogisticRegression \n",
        "from sklearn.model_selection import train_test_split\n",
        "from sklearn import datasets\n",
        "from sklearn.neighbors import KNeighborsClassifier\n",
        "\n",
        "from sklearn.metrics import confusion_matrix, ConfusionMatrixDisplay, accuracy_score, precision_score, recall_score, f1_score\n",
        "\n",
        "from sklearn.preprocessing import StandardScaler\n",
        "\n",
        "\n"
      ]
    },
    {
      "cell_type": "markdown",
      "source": [
        "#Task 1. \n",
        "Apply **LogisticRegression** to iris dataset which aims at classifying species of iris based on sepal_length (chiều dài đài hoa), sepal_width, petal_length (chiều dài cánh hoa), petal_width. The species are '**setosa**' '**versicolor**' and '**virginica**'. \n",
        "\n",
        "\n",
        "\n",
        "```\n",
        "from sklearn import datasets\n",
        "data4 = datasets.load_iris()\n",
        "```\n",
        "\n",
        "\n"
      ],
      "metadata": {
        "id": "kNv07ARGzOUm"
      }
    },
    {
      "cell_type": "code",
      "source": [
        "# code\n",
        "data4 = datasets.load_iris()\n",
        "X = data4.data\n",
        "y = data4.target\n",
        "\n",
        "X_train, X_test, y_train, y_test = train_test_split(X, y, test_size= 0.3, random_state= 1)\n",
        "\n",
        "lr1 = LogisticRegression(random_state = 41) \n",
        "lr1.fit(X_train, y_train)\n",
        "\n",
        "y_pred = lr1.predict(X_test)\n",
        "print(y_pred)\n",
        "\n",
        "ConfusionMatrixDisplay.from_predictions(y_test, y_pred)\n",
        "print(\"Độ chính xác : \", accuracy_score(y_test, y_pred)) \n"
      ],
      "metadata": {
        "id": "sOsg77IBzEyo",
        "colab": {
          "base_uri": "https://localhost:8080/",
          "height": 331
        },
        "outputId": "ad0529f1-8d14-4d6b-c02e-b366d56ae0bf"
      },
      "execution_count": 5,
      "outputs": [
        {
          "output_type": "stream",
          "name": "stdout",
          "text": [
            "[0 1 1 0 2 1 2 0 0 2 1 0 2 1 1 0 1 1 0 0 1 1 2 0 2 1 0 0 1 2 1 2 1 2 2 0 1\n",
            " 0 1 2 2 0 2 2 1]\n",
            "Độ chính xác :  0.9777777777777777\n"
          ]
        },
        {
          "output_type": "display_data",
          "data": {
            "text/plain": [
              "<Figure size 432x288 with 2 Axes>"
            ],
            "image/png": "[encoded data removed]"
          },
          "metadata": {
            "needs_background": "light"
          }
        }
      ]
    },
    {
      "cell_type": "markdown",
      "source": [
        "#Task 2. \n",
        "Apply LogisticRegression to **MNIST** dataset (mnist.csv) which aims at classifying handwritten digits. Dataset includes 784 pixels values of images (28x28). \n",
        "\n",
        "\n",
        "```\n",
        "from sklearn import datasets\n",
        "# load the MNIST digits dataset\n",
        "mnist = datasets.load_digits()\n",
        "```\n",
        "\n"
      ],
      "metadata": {
        "id": "S43IoUT-0OQq"
      }
    },
    {
      "cell_type": "code",
      "source": [
        "# code\n",
        "# load the MNIST digits dataset\n",
        "mnist = datasets.load_digits()\n",
        "X = mnist.data\n",
        "y = mnist.target\n",
        "\n",
        "X_train, X_test, y_train, y_test = train_test_split(X, y, test_size= 0.3, random_state= 42)\n",
        "\n",
        "lr1 = LogisticRegression(random_state= 42) \n",
        "lr1.fit(X_train, y_train)\n",
        "\n",
        "y_pred = lr1.predict(X_test)\n",
        "\n",
        "ConfusionMatrixDisplay.from_predictions(y_test, y_pred)\n",
        "print(\"Độ chính xác : \", accuracy_score(y_test, y_pred))  "
      ],
      "metadata": {
        "id": "_xhPpF5b033h",
        "colab": {
          "base_uri": "https://localhost:8080/",
          "height": 455
        },
        "outputId": "b7654476-cd05-4a43-e5d3-39d43d3c7718"
      },
      "execution_count": 6,
      "outputs": [
        {
          "output_type": "stream",
          "name": "stderr",
          "text": [
            "/usr/local/lib/python3.9/dist-packages/sklearn/linear_model/_logistic.py:458: ConvergenceWarning: lbfgs failed to converge (status=1):\n",
            "STOP: TOTAL NO. of ITERATIONS REACHED LIMIT.\n",
            "\n",
            "Increase the number of iterations (max_iter) or scale the data as shown in:\n",
            "    https://scikit-learn.org/stable/modules/preprocessing.html\n",
            "Please also refer to the documentation for alternative solver options:\n",
            "    https://scikit-learn.org/stable/modules/linear_model.html#logistic-regression\n",
            "  n_iter_i = _check_optimize_result(\n"
          ]
        },
        {
          "output_type": "stream",
          "name": "stdout",
          "text": [
            "Độ chính xác :  0.9648148148148148\n"
          ]
        },
        {
          "output_type": "display_data",
          "data": {
            "text/plain": [
              "<Figure size 432x288 with 2 Axes>"
            ],
            "image/png": "[encoded data removed]"
          },
          "metadata": {
            "needs_background": "light"
          }
        }
      ]
    },
    {
      "cell_type": "markdown",
      "source": [
        "#Task 3. \n",
        "Apply another classification algorithm named kNN, which is an instance classifcation model. \n",
        "*  3.1. Perform kNN algorithm to Iris dataset with k={1, 3, 5, …, 29}. Select the best value of k.\n",
        "\n",
        "*   3.2. Then compare the obtained results with those using Logistic regression (based on metrics: accuracy, precision, recall, f1 measure).\n"
      ],
      "metadata": {
        "id": "Rti2y0Wz2KY9"
      }
    },
    {
      "cell_type": "code",
      "source": [
        "# code\n",
        "data3 = datasets.load_iris()\n",
        "X_train3, X_test3, y_train3, y_test3 = train_test_split(data3.data, data3.target, test_size=0.3, random_state=43)\n",
        "\n",
        "# 3.1\n",
        "best_k = None\n",
        "best_accuracy = 0\n",
        "k_arr = list(range(1, 30, 2))\n",
        "# KNN performance\n",
        "accuracy_knn = []\n",
        "precision_knn = []\n",
        "recall_knn = []\n",
        "f1_knn = []\n",
        "for k in k_arr:\n",
        "  knn = KNeighborsClassifier(n_neighbors=k)\n",
        "  knn.fit(X_train3, y_train3)\n",
        "  y_pred3 = knn.predict(X_test3)\n",
        "  accuracy = accuracy_score(y_test3, y_pred3)\n",
        "  accuracy_knn.append(accuracy)\n",
        "  precision_knn.append(precision_score(y_test3, y_pred3, average=\"macro\"))\n",
        "  recall_knn.append(recall_score(y_test3, y_pred3, average=\"macro\"))\n",
        "  f1_knn.append(f1_score(y_test3, y_pred3, average=\"macro\"))\n",
        "  if accuracy > best_accuracy:\n",
        "    best_k = k\n",
        "    best_accuracy = accuracy\n",
        "\n",
        "print(\"\\n3.1\\n\")\n",
        "print(\"Best k:\", best_k)\n",
        "print(\"Best accuracy:\", best_accuracy)\n",
        "\n",
        "#3.2\n",
        "lr3 = LogisticRegression()\n",
        "lr3.fit(X_train3, y_train3)\n",
        "# Logistic regerssion performance\n",
        "y_pred_lr3 = lr3.predict(X_test3)\n",
        "accuracy_lr3 = accuracy_score(y_test3, y_pred_lr3)\n",
        "precision_lr3 = precision_score(y_test3, y_pred_lr3, average=\"macro\")\n",
        "recall_lr3 = recall_score(y_test3, y_pred_lr3, average=\"macro\")\n",
        "f1_lr3 = f1_score(y_test3, y_pred_lr3, average=\"macro\")\n",
        "\n",
        "\n",
        "print(\"\\n3.2\\n\")\n",
        "print(\"Logistic regression performance\\n\")\n",
        "print(\"Accuracy:\", accuracy_lr3)\n",
        "print(\"Precision:\", precision_lr3)\n",
        "print(\"Recall:\", recall_lr3)\n",
        "print(\"F1 score:\", f1_lr3)\n",
        "\n",
        "print(\"\\n\\nKnn performance\\n\")\n",
        "plt.plot(k_arr, accuracy_knn, label = \"Accuracy\")\n",
        "plt.plot(k_arr, precision_knn, label = \"Precision\")\n",
        "plt.plot(k_arr, recall_knn, label = \"Recall\")\n",
        "plt.plot(k_arr, f1_knn, label = \"F1\")\n",
        "plt.xlabel(\"K\")\n",
        "plt.legend()\n",
        "\n",
        "\n",
        "\n"
      ],
      "metadata": {
        "id": "13LkkfpS2ZUR",
        "colab": {
          "base_uri": "https://localhost:8080/",
          "height": 609
        },
        "outputId": "c2d3d34c-a998-48dc-b43b-dbfb02dc152d"
      },
      "execution_count": 12,
      "outputs": [
        {
          "output_type": "stream",
          "name": "stdout",
          "text": [
            "\n",
            "3.1\n",
            "\n",
            "Best k: 3\n",
            "Best accuracy: 1.0\n",
            "\n",
            "3.2\n",
            "\n",
            "Logistic regression performance\n",
            "\n",
            "Accuracy: 0.9777777777777777\n",
            "Precision: 0.9761904761904763\n",
            "Recall: 0.9803921568627452\n",
            "F1 score: 0.9775533108866442\n",
            "\n",
            "\n",
            "Knn performance\n",
            "\n"
          ]
        },
        {
          "output_type": "execute_result",
          "data": {
            "text/plain": [
              "<matplotlib.legend.Legend at 0x7f29442d06a0>"
            ]
          },
          "metadata": {},
          "execution_count": 12
        },
        {
          "output_type": "display_data",
          "data": {
            "text/plain": [
              "<Figure size 432x288 with 1 Axes>"
            ],
            "image/png": "[encoded data removed]"
          },
          "metadata": {
            "needs_background": "light"
          }
        }
      ]
    },
    {
      "cell_type": "markdown",
      "source": [
        "#Task 4. \n",
        "Similar to Task 3, apply kNN algorithm to **mnist** dataset which included in datasets of sklearn API.\n",
        "*  4.1.\tPerform kNN algorithm to Iris dataset with k={1, 3, 5, …, 29}. Select the best value of k.\n",
        "*  4.2.\tThen compare the obtained results with those using Logistic regression (based on metrics: accuracy, precision, recall, f1 measure).\n"
      ],
      "metadata": {
        "id": "b52OPWPD2afi"
      }
    },
    {
      "cell_type": "code",
      "source": [
        "# code\n",
        "mnist = datasets.load_digits()\n",
        "X_train4, X_test4, y_train4, y_test4 = train_test_split(mnist.data, mnist.target, test_size = 0.3, random_state = 44)\n",
        "\n",
        "best_k = None\n",
        "best_accuracy = 0\n",
        "k_arr = list(range(1, 30, 2))\n",
        "# KNN performance\n",
        "accuracy_knn4 = []\n",
        "precision_knn4 = []\n",
        "recall_knn4 = []\n",
        "f1_knn4 = []\n",
        "for k in k_arr:\n",
        "  knn = KNeighborsClassifier(n_neighbors=k)\n",
        "  knn.fit(X_train4, y_train4)\n",
        "  y_pred4 = knn.predict(X_test4)\n",
        "  accuracy = accuracy_score(y_test4, y_pred4)\n",
        "  accuracy_knn4.append(accuracy)\n",
        "  precision_knn4.append(precision_score(y_test4, y_pred4, average=\"macro\"))\n",
        "  recall_knn4.append(recall_score(y_test4, y_pred4, average=\"macro\"))\n",
        "  f1_knn4.append(f1_score(y_test4, y_pred4, average=\"macro\"))\n",
        "  if accuracy > best_accuracy:\n",
        "    best_k = k\n",
        "    best_accuracy = accuracy\n",
        "\n",
        "print(\"\\n4.1\\n\")\n",
        "print(\"Best K:\", best_k)\n",
        "print(\"Best accuracy:\", best_accuracy)\n",
        "\n",
        "# 4.2\n",
        "lr4 = LogisticRegression()\n",
        "lr4.fit(X_train4, y_train4)\n",
        "#Logistic regression performance\n",
        "y_pred_lr4 = lr4.predict(X_test4)\n",
        "accuracy_lr4 = accuracy_score(y_test4, y_pred_lr4)\n",
        "precision_lr4 = precision_score(y_test4, y_pred_lr4, average=\"macro\")\n",
        "recall_lr4 = recall_score(y_test4, y_pred_lr4, average=\"macro\")\n",
        "f1_lr4 = f1_score(y_test, y_pred_lr4, average=\"macro\")\n",
        "\n",
        "print(\"\\n4.2\\n\")\n",
        "print(\"Logistic regression performance - knn performance:\")\n",
        "print(\"Accuracy:\", accuracy_lr4)\n",
        "print(\"Precision:\", precision_lr4)\n",
        "print(\"Recall:\", recall_lr4)\n",
        "print(\"F1 score:\", f1_lr4)\n",
        "\n",
        "\n",
        "print(\"\\n\\nKnn performance\\n\")\n",
        "plt.plot(k_arr, accuracy_knn4, label = \"Accuracy\")\n",
        "plt.plot(k_arr, precision_knn4, label = \"Precision\")\n",
        "plt.plot(k_arr, recall_knn4, label = \"Recall\")\n",
        "plt.plot(k_arr, f1_knn4, label = \"F1\")\n",
        "plt.xlabel(\"K\")\n",
        "plt.legend()\n",
        "\n",
        "\n",
        "\n"
      ],
      "metadata": {
        "id": "Rw_-8FIf2KxW",
        "colab": {
          "base_uri": "https://localhost:8080/",
          "height": 750
        },
        "outputId": "29a3b6e8-68b3-4b2e-a718-19c0c69c1866"
      },
      "execution_count": 10,
      "outputs": [
        {
          "output_type": "stream",
          "name": "stdout",
          "text": [
            "\n",
            "4.1\n",
            "\n",
            "Best K: 9\n",
            "Best accuracy: 0.9962962962962963\n",
            "\n",
            "4.2\n",
            "\n",
            "Logistic regression performance - knn performance:\n",
            "Accuracy: 0.9722222222222222\n",
            "Precision: 0.9717894885320533\n",
            "Recall: 0.9732995678126766\n",
            "F1 score: 0.10549996126682344\n",
            "\n",
            "\n",
            "Knn performance\n",
            "\n"
          ]
        },
        {
          "output_type": "stream",
          "name": "stderr",
          "text": [
            "/usr/local/lib/python3.9/dist-packages/sklearn/linear_model/_logistic.py:458: ConvergenceWarning: lbfgs failed to converge (status=1):\n",
            "STOP: TOTAL NO. of ITERATIONS REACHED LIMIT.\n",
            "\n",
            "Increase the number of iterations (max_iter) or scale the data as shown in:\n",
            "    https://scikit-learn.org/stable/modules/preprocessing.html\n",
            "Please also refer to the documentation for alternative solver options:\n",
            "    https://scikit-learn.org/stable/modules/linear_model.html#logistic-regression\n",
            "  n_iter_i = _check_optimize_result(\n"
          ]
        },
        {
          "output_type": "execute_result",
          "data": {
            "text/plain": [
              "<matplotlib.legend.Legend at 0x7f6226decd30>"
            ]
          },
          "metadata": {},
          "execution_count": 10
        },
        {
          "output_type": "display_data",
          "data": {
            "text/plain": [
              "<Figure size 432x288 with 1 Axes>"
            ],
            "image/png": "[encoded data removed]"
          },
          "metadata": {
            "needs_background": "light"
          }
        }
      ]
    },
    {
      "cell_type": "markdown",
      "source": [
        "#Task 5. \n",
        "Compare the performance of selected classification algorithms (**Decision Treen, kNN, and Logistic Regression**) to ***spam detection***. The dataset can be accessed from the link: http://archive.ics.uci.edu/ml/datasets/Spambase \n",
        "Attribute Information:\n",
        "The last column of 'spambase.csv denotes whether the e-mail was considered spam (1) or not (0), i.e. unsolicited commercial e-mail. Most of the attributes indicate whether a particular word or character was frequently occuring in the e-mail. The run-length attributes (55-57) measure the length of sequences of consecutive capital letters. For the statistical measures of each attribute, see the end of this file. Here are the definitions of the attributes: \n",
        "*  48 continuous real [0,100] attributes of type word_freq_WORD \n",
        "= percentage of words in the e-mail that match WORD, i.e. 100 * (number of times the WORD appears in the e-mail) / total number of words in e-mail. A \"word\" in this case is any string of alphanumeric characters bounded by non-alphanumeric characters or end-of-string. **Example**: word_freq_address: percentage of words in the e-mail that match ADDRESS.\n",
        "*  6 continuous real [0,100] attributes of type char_freq_CHAR] \n",
        "= percentage of characters in the e-mail that match CHAR, i.e. 100 * (number of CHAR occurences) / total characters in e-mail\n",
        "*  1 continuous real [1,...] attribute of type capital_run_length_average \n",
        "= average length of uninterrupted sequences of capital letters\n",
        "*  1 continuous integer [1,...] attribute of type capital_run_length_longest \n",
        "= length of longest uninterrupted sequence of capital letters\n",
        "*  1 continuous integer [1,...] attribute of type capital_run_length_total = sum of length of uninterrupted sequences of capital letters = total number of capital letters in the e-mail\n",
        "*  1 nominal {0,1} class attribute of type spam = denotes whether the e-mail was considered spam (1) or not (0), i.e. unsolicited commercial e-mail. \n",
        "\n",
        "\n",
        "---\n",
        "\n",
        "\n",
        "In order to compare the performance of selected algorithms, some common metrics including **accuracy, precision, recall, f1 measures** could be used.\n"
      ],
      "metadata": {
        "id": "MVzSk4l505E0"
      }
    },
    {
      "cell_type": "code",
      "source": [
        "# code\n",
        "from sklearn.tree import DecisionTreeClassifier\n",
        "data5 = pd.read_csv('spambase.csv')\n",
        "\n",
        "# Load dataset\n",
        "X = data5.iloc[:, :-1]\n",
        "y = data5.iloc[:, -1]\n",
        "\n",
        "# Split into train and test sets\n",
        "X_train, X_test, y_train, y_test = train_test_split(X, y, test_size=0.3, random_state=45)\n",
        "\n",
        "# Train Decision Tree\n",
        "dt = DecisionTreeClassifier()\n",
        "dt.fit(X_train, y_train)\n",
        "\n",
        "# Train kNN\n",
        "knn = KNeighborsClassifier(n_neighbors=5)\n",
        "knn.fit(X_train, y_train)\n",
        "\n",
        "# Train Logistic Regression\n",
        "lr = LogisticRegression()\n",
        "lr.fit(X_train, y_train)\n",
        "\n",
        "# Evaluate performance on test set\n",
        "dt_pred = dt.predict(X_test)\n",
        "knn_pred = knn.predict(X_test)\n",
        "lr_pred = lr.predict(X_test)\n",
        "\n",
        "print('\\nDecision Tree:\\n')\n",
        "print('Accuracy:', accuracy_score(y_test, dt_pred))\n",
        "print('Precision:', precision_score(y_test, dt_pred))\n",
        "print('Recall:', recall_score(y_test, dt_pred))\n",
        "print('F1 Score:', f1_score(y_test, dt_pred))\n",
        "\n",
        "print('\\nkNN:\\n')\n",
        "print('Accuracy:', accuracy_score(y_test, knn_pred))\n",
        "print('Precision:', precision_score(y_test, knn_pred))\n",
        "print('Recall:', recall_score(y_test, knn_pred))\n",
        "print('F1 Score:', f1_score(y_test, knn_pred))\n",
        "\n",
        "print('\\nLogistic Regression:\\n')\n",
        "print('Accuracy:', accuracy_score(y_test, lr_pred))\n",
        "print('Precision:', precision_score(y_test, lr_pred))\n",
        "print('Recall:', recall_score(y_test, lr_pred))\n",
        "print('F1 Score:', f1_score(y_test, lr_pred))"
      ],
      "metadata": {
        "id": "W_1v_ivR2f6D",
        "colab": {
          "base_uri": "https://localhost:8080/"
        },
        "outputId": "57740b82-e0c9-4851-efe0-aeb3426ea2f5"
      },
      "execution_count": 14,
      "outputs": [
        {
          "output_type": "stream",
          "name": "stdout",
          "text": [
            "Decision Tree:\n",
            "Accuracy: 0.9217958001448225\n",
            "Precision: 0.8983364140480592\n",
            "Recall: 0.9016697588126159\n",
            "F1 Score: 0.9\n",
            "kNN:\n",
            "Accuracy: 0.7871107892831282\n",
            "Precision: 0.7406679764243614\n",
            "Recall: 0.699443413729128\n",
            "F1 Score: 0.7194656488549617\n",
            "Logistic Regression:\n",
            "Accuracy: 0.9232440260680667\n",
            "Precision: 0.9031657355679702\n",
            "Recall: 0.8998144712430427\n",
            "F1 Score: 0.9014869888475836\n"
          ]
        },
        {
          "output_type": "stream",
          "name": "stderr",
          "text": [
            "/usr/local/lib/python3.9/dist-packages/sklearn/linear_model/_logistic.py:458: ConvergenceWarning: lbfgs failed to converge (status=1):\n",
            "STOP: TOTAL NO. of ITERATIONS REACHED LIMIT.\n",
            "\n",
            "Increase the number of iterations (max_iter) or scale the data as shown in:\n",
            "    https://scikit-learn.org/stable/modules/preprocessing.html\n",
            "Please also refer to the documentation for alternative solver options:\n",
            "    https://scikit-learn.org/stable/modules/linear_model.html#logistic-regression\n",
            "  n_iter_i = _check_optimize_result(\n"
          ]
        }
      ]
    },
    {
      "cell_type": "markdown",
      "source": [
        "#Finally,\n",
        "Save a copy in your Github. Remember renaming the notebook."
      ],
      "metadata": {
        "id": "Ok7RGkea_b7n"
      }
    }
  ]
}